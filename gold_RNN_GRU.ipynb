{
  "nbformat": 4,
  "nbformat_minor": 0,
  "metadata": {
    "colab": {
      "provenance": []
    },
    "kernelspec": {
      "display_name": "Python 3",
      "language": "python",
      "name": "python3"
    },
    "language_info": {
      "codemirror_mode": {
        "name": "ipython",
        "version": 3
      },
      "file_extension": ".py",
      "mimetype": "text/x-python",
      "name": "python",
      "nbconvert_exporter": "python",
      "pygments_lexer": "ipython3",
      "version": "3.7.4"
    },
    "accelerator": "GPU"
  },
  "cells": [
    {
      "cell_type": "code",
      "metadata": {
        "colab": {
          "base_uri": "https://localhost:8080/"
        },
        "id": "9MlL5s-3-_kZ",
        "outputId": "b6acc2cb-acf8-4e9d-ded7-ba51fc9d1997"
      },
      "source": [
        "import pandas as pd\n",
        "from datetime import datetime\n",
        "import nltk\n",
        "from nltk.corpus import stopwords\n",
        "from nltk.tokenize import word_tokenize\n",
        "import numpy as np\n",
        "from keras.preprocessing.text import Tokenizer\n",
        "import matplotlib.pyplot as plt\n",
        "from keras.preprocessing.sequence import pad_sequences\n",
        "from sklearn.model_selection import train_test_split\n",
        "import tensorflow as tf\n",
        "from keras.layers import Dense, Input,Flatten,Embedding,Dropout\n",
        "from sklearn.metrics import classification_report\n",
        "from tensorflow.keras.models import Sequential\n",
        "from tensorflow.keras.layers import Dense, Dropout, BatchNormalization ,Conv2D,Conv1D,MaxPooling1D,Flatten, Softmax, LSTM,SimpleRNN,GRU\n",
        "from tensorflow.keras import layers\n",
        "from keras.models import Model\n",
        "import matplotlib.pyplot as plt\n",
        "from wordcloud import WordCloud\n",
        "import re\n",
        "from imblearn.over_sampling import SMOTE\n",
        "from sklearn.metrics import mean_squared_error\n",
        "\n",
        "\n",
        "\n",
        "nltk.download('punkt')\n",
        "nltk.download(\"stopwords\")"
      ],
      "execution_count": null,
      "outputs": [
        {
          "output_type": "stream",
          "text": [
            "[nltk_data] Downloading package punkt to /root/nltk_data...\n",
            "[nltk_data]   Package punkt is already up-to-date!\n",
            "[nltk_data] Downloading package stopwords to /root/nltk_data...\n",
            "[nltk_data]   Package stopwords is already up-to-date!\n"
          ],
          "name": "stdout"
        },
        {
          "output_type": "execute_result",
          "data": {
            "text/plain": [
              "True"
            ]
          },
          "metadata": {
            "tags": []
          },
          "execution_count": 43
        }
      ]
    },
    {
      "cell_type": "code",
      "metadata": {
        "colab": {
          "base_uri": "https://localhost:8080/",
          "height": 423
        },
        "id": "LPyj753e-_kh",
        "outputId": "58562640-f4c2-459d-9de6-7392b5686879"
      },
      "source": [
        "df = pd.read_excel('data3.xlsx')\n",
        "df"
      ],
      "execution_count": null,
      "outputs": [
        {
          "output_type": "execute_result",
          "data": {
            "text/html": [
              "<div>\n",
              "<style scoped>\n",
              "    .dataframe tbody tr th:only-of-type {\n",
              "        vertical-align: middle;\n",
              "    }\n",
              "\n",
              "    .dataframe tbody tr th {\n",
              "        vertical-align: top;\n",
              "    }\n",
              "\n",
              "    .dataframe thead th {\n",
              "        text-align: right;\n",
              "    }\n",
              "</style>\n",
              "<table border=\"1\" class=\"dataframe\">\n",
              "  <thead>\n",
              "    <tr style=\"text-align: right;\">\n",
              "      <th></th>\n",
              "      <th>Unnamed: 0</th>\n",
              "      <th>Head_line</th>\n",
              "      <th>Date</th>\n",
              "    </tr>\n",
              "  </thead>\n",
              "  <tbody>\n",
              "    <tr>\n",
              "      <th>0</th>\n",
              "      <td>0</td>\n",
              "      <td>Bitcoin survives despite all China can throw a...</td>\n",
              "      <td>- 21 hours ago</td>\n",
              "    </tr>\n",
              "    <tr>\n",
              "      <th>1</th>\n",
              "      <td>1</td>\n",
              "      <td>The Last Trading Day of the First Half of 2021...</td>\n",
              "      <td>- Jun 30, 2021</td>\n",
              "    </tr>\n",
              "    <tr>\n",
              "      <th>2</th>\n",
              "      <td>2</td>\n",
              "      <td>Global shares fall on pandemic fears ahead of ...</td>\n",
              "      <td>- Jun 30, 2021</td>\n",
              "    </tr>\n",
              "    <tr>\n",
              "      <th>3</th>\n",
              "      <td>3</td>\n",
              "      <td>Gold Records Worst Monthly Loss in Five Years ...</td>\n",
              "      <td>- Jun 30, 2021</td>\n",
              "    </tr>\n",
              "    <tr>\n",
              "      <th>4</th>\n",
              "      <td>4</td>\n",
              "      <td>Shield Against Volatile Gold Prices with Two M...</td>\n",
              "      <td>- Jun 30, 2021</td>\n",
              "    </tr>\n",
              "    <tr>\n",
              "      <th>...</th>\n",
              "      <td>...</td>\n",
              "      <td>...</td>\n",
              "      <td>...</td>\n",
              "    </tr>\n",
              "    <tr>\n",
              "      <th>19922</th>\n",
              "      <td>19922</td>\n",
              "      <td>US STOCKS-Wall St flat, but commodity shares gain</td>\n",
              "      <td>- Apr 08, 2011</td>\n",
              "    </tr>\n",
              "    <tr>\n",
              "      <th>19923</th>\n",
              "      <td>19923</td>\n",
              "      <td>European shares close up ahead of U.S. earnings</td>\n",
              "      <td>- Apr 08, 2011</td>\n",
              "    </tr>\n",
              "    <tr>\n",
              "      <th>19924</th>\n",
              "      <td>19924</td>\n",
              "      <td>US STOCKS-Wall St ekes out gain, chases commod...</td>\n",
              "      <td>- Apr 08, 2011</td>\n",
              "    </tr>\n",
              "    <tr>\n",
              "      <th>19925</th>\n",
              "      <td>19925</td>\n",
              "      <td>GLOBAL MARKETS-Oil hits 32-month peak, euro ga...</td>\n",
              "      <td>- Apr 08, 2011</td>\n",
              "    </tr>\n",
              "    <tr>\n",
              "      <th>19926</th>\n",
              "      <td>19926</td>\n",
              "      <td>GLOBAL MARKETS-Stocks hit near 3-year highs, e...</td>\n",
              "      <td>- Apr 08, 2011</td>\n",
              "    </tr>\n",
              "  </tbody>\n",
              "</table>\n",
              "<p>19927 rows × 3 columns</p>\n",
              "</div>"
            ],
            "text/plain": [
              "       Unnamed: 0  ...             Date\n",
              "0               0  ...   - 21 hours ago\n",
              "1               1  ...   - Jun 30, 2021\n",
              "2               2  ...   - Jun 30, 2021\n",
              "3               3  ...   - Jun 30, 2021\n",
              "4               4  ...   - Jun 30, 2021\n",
              "...           ...  ...              ...\n",
              "19922       19922  ...   - Apr 08, 2011\n",
              "19923       19923  ...   - Apr 08, 2011\n",
              "19924       19924  ...   - Apr 08, 2011\n",
              "19925       19925  ...   - Apr 08, 2011\n",
              "19926       19926  ...   - Apr 08, 2011\n",
              "\n",
              "[19927 rows x 3 columns]"
            ]
          },
          "metadata": {
            "tags": []
          },
          "execution_count": 2
        }
      ]
    },
    {
      "cell_type": "code",
      "metadata": {
        "id": "l14NeuoE-_kj"
      },
      "source": [
        "df = df.groupby(['Date'])['Head_line'].apply(','.join).reset_index()\n",
        "df.drop(0,inplace=True)"
      ],
      "execution_count": null,
      "outputs": []
    },
    {
      "cell_type": "code",
      "metadata": {
        "colab": {
          "base_uri": "https://localhost:8080/",
          "height": 423
        },
        "id": "8Tww06Xl-_kk",
        "outputId": "eea6629d-56d9-4fd8-c569-dafe38cd7008"
      },
      "source": [
        "df1 = pd.read_csv('/content/Gold Futures Historical Data.csv')\n",
        "df1"
      ],
      "execution_count": null,
      "outputs": [
        {
          "output_type": "execute_result",
          "data": {
            "text/html": [
              "<div>\n",
              "<style scoped>\n",
              "    .dataframe tbody tr th:only-of-type {\n",
              "        vertical-align: middle;\n",
              "    }\n",
              "\n",
              "    .dataframe tbody tr th {\n",
              "        vertical-align: top;\n",
              "    }\n",
              "\n",
              "    .dataframe thead th {\n",
              "        text-align: right;\n",
              "    }\n",
              "</style>\n",
              "<table border=\"1\" class=\"dataframe\">\n",
              "  <thead>\n",
              "    <tr style=\"text-align: right;\">\n",
              "      <th></th>\n",
              "      <th>Date</th>\n",
              "      <th>Price</th>\n",
              "      <th>Open</th>\n",
              "      <th>High</th>\n",
              "      <th>Low</th>\n",
              "      <th>Vol.</th>\n",
              "      <th>Change %</th>\n",
              "    </tr>\n",
              "  </thead>\n",
              "  <tbody>\n",
              "    <tr>\n",
              "      <th>0</th>\n",
              "      <td>Jul 02, 2021</td>\n",
              "      <td>1,778.20</td>\n",
              "      <td>1,775.80</td>\n",
              "      <td>1,780.25</td>\n",
              "      <td>1,774.55</td>\n",
              "      <td>-</td>\n",
              "      <td>0.08%</td>\n",
              "    </tr>\n",
              "    <tr>\n",
              "      <th>1</th>\n",
              "      <td>Jul 01, 2021</td>\n",
              "      <td>1,776.80</td>\n",
              "      <td>1,770.80</td>\n",
              "      <td>1,783.40</td>\n",
              "      <td>1,765.90</td>\n",
              "      <td>171.44K</td>\n",
              "      <td>0.29%</td>\n",
              "    </tr>\n",
              "    <tr>\n",
              "      <th>2</th>\n",
              "      <td>Jun 30, 2021</td>\n",
              "      <td>1,771.60</td>\n",
              "      <td>1,761.90</td>\n",
              "      <td>1,774.70</td>\n",
              "      <td>1,753.20</td>\n",
              "      <td>177.89K</td>\n",
              "      <td>0.45%</td>\n",
              "    </tr>\n",
              "    <tr>\n",
              "      <th>3</th>\n",
              "      <td>Jun 29, 2021</td>\n",
              "      <td>1,763.60</td>\n",
              "      <td>1,778.80</td>\n",
              "      <td>1,779.20</td>\n",
              "      <td>1,750.10</td>\n",
              "      <td>239.91K</td>\n",
              "      <td>-0.96%</td>\n",
              "    </tr>\n",
              "    <tr>\n",
              "      <th>4</th>\n",
              "      <td>Jun 28, 2021</td>\n",
              "      <td>1,780.70</td>\n",
              "      <td>1,782.00</td>\n",
              "      <td>1,786.10</td>\n",
              "      <td>1,770.40</td>\n",
              "      <td>160.79K</td>\n",
              "      <td>0.16%</td>\n",
              "    </tr>\n",
              "    <tr>\n",
              "      <th>...</th>\n",
              "      <td>...</td>\n",
              "      <td>...</td>\n",
              "      <td>...</td>\n",
              "      <td>...</td>\n",
              "      <td>...</td>\n",
              "      <td>...</td>\n",
              "      <td>...</td>\n",
              "    </tr>\n",
              "    <tr>\n",
              "      <th>2737</th>\n",
              "      <td>Jan 07, 2011</td>\n",
              "      <td>1,368.50</td>\n",
              "      <td>1,372.70</td>\n",
              "      <td>1,377.20</td>\n",
              "      <td>1,355.50</td>\n",
              "      <td>0.23K</td>\n",
              "      <td>-0.21%</td>\n",
              "    </tr>\n",
              "    <tr>\n",
              "      <th>2738</th>\n",
              "      <td>Jan 06, 2011</td>\n",
              "      <td>1,371.40</td>\n",
              "      <td>1,374.80</td>\n",
              "      <td>1,376.50</td>\n",
              "      <td>1,368.90</td>\n",
              "      <td>0.16K</td>\n",
              "      <td>-0.15%</td>\n",
              "    </tr>\n",
              "    <tr>\n",
              "      <th>2739</th>\n",
              "      <td>Jan 05, 2011</td>\n",
              "      <td>1,373.40</td>\n",
              "      <td>1,383.40</td>\n",
              "      <td>1,384.00</td>\n",
              "      <td>1,364.20</td>\n",
              "      <td>0.18K</td>\n",
              "      <td>-0.37%</td>\n",
              "    </tr>\n",
              "    <tr>\n",
              "      <th>2740</th>\n",
              "      <td>Jan 04, 2011</td>\n",
              "      <td>1,378.50</td>\n",
              "      <td>1,409.60</td>\n",
              "      <td>1,410.90</td>\n",
              "      <td>1,375.80</td>\n",
              "      <td>0.12K</td>\n",
              "      <td>-3.10%</td>\n",
              "    </tr>\n",
              "    <tr>\n",
              "      <th>2741</th>\n",
              "      <td>Jan 03, 2011</td>\n",
              "      <td>1,422.60</td>\n",
              "      <td>1,415.60</td>\n",
              "      <td>1,423.90</td>\n",
              "      <td>1,413.70</td>\n",
              "      <td>0.03K</td>\n",
              "      <td>0.11%</td>\n",
              "    </tr>\n",
              "  </tbody>\n",
              "</table>\n",
              "<p>2742 rows × 7 columns</p>\n",
              "</div>"
            ],
            "text/plain": [
              "              Date     Price      Open      High       Low     Vol. Change %\n",
              "0     Jul 02, 2021  1,778.20  1,775.80  1,780.25  1,774.55        -    0.08%\n",
              "1     Jul 01, 2021  1,776.80  1,770.80  1,783.40  1,765.90  171.44K    0.29%\n",
              "2     Jun 30, 2021  1,771.60  1,761.90  1,774.70  1,753.20  177.89K    0.45%\n",
              "3     Jun 29, 2021  1,763.60  1,778.80  1,779.20  1,750.10  239.91K   -0.96%\n",
              "4     Jun 28, 2021  1,780.70  1,782.00  1,786.10  1,770.40  160.79K    0.16%\n",
              "...            ...       ...       ...       ...       ...      ...      ...\n",
              "2737  Jan 07, 2011  1,368.50  1,372.70  1,377.20  1,355.50    0.23K   -0.21%\n",
              "2738  Jan 06, 2011  1,371.40  1,374.80  1,376.50  1,368.90    0.16K   -0.15%\n",
              "2739  Jan 05, 2011  1,373.40  1,383.40  1,384.00  1,364.20    0.18K   -0.37%\n",
              "2740  Jan 04, 2011  1,378.50  1,409.60  1,410.90  1,375.80    0.12K   -3.10%\n",
              "2741  Jan 03, 2011  1,422.60  1,415.60  1,423.90  1,413.70    0.03K    0.11%\n",
              "\n",
              "[2742 rows x 7 columns]"
            ]
          },
          "metadata": {
            "tags": []
          },
          "execution_count": 4
        }
      ]
    },
    {
      "cell_type": "code",
      "metadata": {
        "colab": {
          "base_uri": "https://localhost:8080/",
          "height": 423
        },
        "id": "FUn44SHB-_kl",
        "outputId": "332ba81e-8155-4fa1-bd75-47eb3d276a91"
      },
      "source": [
        "df1['Future'] = df1['Price'].shift(-1)\n",
        "df1.dropna(inplace=True)\n",
        "def compare(current, future):\n",
        "    if future > current:\n",
        "        return 1\n",
        "    else:\n",
        "        return 0\n",
        "df1['target'] = list(map(compare, df1['Price'], df1['Future']))\n",
        "df1"
      ],
      "execution_count": null,
      "outputs": [
        {
          "output_type": "execute_result",
          "data": {
            "text/html": [
              "<div>\n",
              "<style scoped>\n",
              "    .dataframe tbody tr th:only-of-type {\n",
              "        vertical-align: middle;\n",
              "    }\n",
              "\n",
              "    .dataframe tbody tr th {\n",
              "        vertical-align: top;\n",
              "    }\n",
              "\n",
              "    .dataframe thead th {\n",
              "        text-align: right;\n",
              "    }\n",
              "</style>\n",
              "<table border=\"1\" class=\"dataframe\">\n",
              "  <thead>\n",
              "    <tr style=\"text-align: right;\">\n",
              "      <th></th>\n",
              "      <th>Date</th>\n",
              "      <th>Price</th>\n",
              "      <th>Open</th>\n",
              "      <th>High</th>\n",
              "      <th>Low</th>\n",
              "      <th>Vol.</th>\n",
              "      <th>Change %</th>\n",
              "      <th>Future</th>\n",
              "      <th>target</th>\n",
              "    </tr>\n",
              "  </thead>\n",
              "  <tbody>\n",
              "    <tr>\n",
              "      <th>0</th>\n",
              "      <td>Jul 02, 2021</td>\n",
              "      <td>1,778.20</td>\n",
              "      <td>1,775.80</td>\n",
              "      <td>1,780.25</td>\n",
              "      <td>1,774.55</td>\n",
              "      <td>-</td>\n",
              "      <td>0.08%</td>\n",
              "      <td>1,776.80</td>\n",
              "      <td>0</td>\n",
              "    </tr>\n",
              "    <tr>\n",
              "      <th>1</th>\n",
              "      <td>Jul 01, 2021</td>\n",
              "      <td>1,776.80</td>\n",
              "      <td>1,770.80</td>\n",
              "      <td>1,783.40</td>\n",
              "      <td>1,765.90</td>\n",
              "      <td>171.44K</td>\n",
              "      <td>0.29%</td>\n",
              "      <td>1,771.60</td>\n",
              "      <td>0</td>\n",
              "    </tr>\n",
              "    <tr>\n",
              "      <th>2</th>\n",
              "      <td>Jun 30, 2021</td>\n",
              "      <td>1,771.60</td>\n",
              "      <td>1,761.90</td>\n",
              "      <td>1,774.70</td>\n",
              "      <td>1,753.20</td>\n",
              "      <td>177.89K</td>\n",
              "      <td>0.45%</td>\n",
              "      <td>1,763.60</td>\n",
              "      <td>0</td>\n",
              "    </tr>\n",
              "    <tr>\n",
              "      <th>3</th>\n",
              "      <td>Jun 29, 2021</td>\n",
              "      <td>1,763.60</td>\n",
              "      <td>1,778.80</td>\n",
              "      <td>1,779.20</td>\n",
              "      <td>1,750.10</td>\n",
              "      <td>239.91K</td>\n",
              "      <td>-0.96%</td>\n",
              "      <td>1,780.70</td>\n",
              "      <td>1</td>\n",
              "    </tr>\n",
              "    <tr>\n",
              "      <th>4</th>\n",
              "      <td>Jun 28, 2021</td>\n",
              "      <td>1,780.70</td>\n",
              "      <td>1,782.00</td>\n",
              "      <td>1,786.10</td>\n",
              "      <td>1,770.40</td>\n",
              "      <td>160.79K</td>\n",
              "      <td>0.16%</td>\n",
              "      <td>1,777.80</td>\n",
              "      <td>0</td>\n",
              "    </tr>\n",
              "    <tr>\n",
              "      <th>...</th>\n",
              "      <td>...</td>\n",
              "      <td>...</td>\n",
              "      <td>...</td>\n",
              "      <td>...</td>\n",
              "      <td>...</td>\n",
              "      <td>...</td>\n",
              "      <td>...</td>\n",
              "      <td>...</td>\n",
              "      <td>...</td>\n",
              "    </tr>\n",
              "    <tr>\n",
              "      <th>2736</th>\n",
              "      <td>Jan 10, 2011</td>\n",
              "      <td>1,373.70</td>\n",
              "      <td>1,369.00</td>\n",
              "      <td>1,374.00</td>\n",
              "      <td>1,365.70</td>\n",
              "      <td>0.18K</td>\n",
              "      <td>0.38%</td>\n",
              "      <td>1,368.50</td>\n",
              "      <td>0</td>\n",
              "    </tr>\n",
              "    <tr>\n",
              "      <th>2737</th>\n",
              "      <td>Jan 07, 2011</td>\n",
              "      <td>1,368.50</td>\n",
              "      <td>1,372.70</td>\n",
              "      <td>1,377.20</td>\n",
              "      <td>1,355.50</td>\n",
              "      <td>0.23K</td>\n",
              "      <td>-0.21%</td>\n",
              "      <td>1,371.40</td>\n",
              "      <td>1</td>\n",
              "    </tr>\n",
              "    <tr>\n",
              "      <th>2738</th>\n",
              "      <td>Jan 06, 2011</td>\n",
              "      <td>1,371.40</td>\n",
              "      <td>1,374.80</td>\n",
              "      <td>1,376.50</td>\n",
              "      <td>1,368.90</td>\n",
              "      <td>0.16K</td>\n",
              "      <td>-0.15%</td>\n",
              "      <td>1,373.40</td>\n",
              "      <td>1</td>\n",
              "    </tr>\n",
              "    <tr>\n",
              "      <th>2739</th>\n",
              "      <td>Jan 05, 2011</td>\n",
              "      <td>1,373.40</td>\n",
              "      <td>1,383.40</td>\n",
              "      <td>1,384.00</td>\n",
              "      <td>1,364.20</td>\n",
              "      <td>0.18K</td>\n",
              "      <td>-0.37%</td>\n",
              "      <td>1,378.50</td>\n",
              "      <td>1</td>\n",
              "    </tr>\n",
              "    <tr>\n",
              "      <th>2740</th>\n",
              "      <td>Jan 04, 2011</td>\n",
              "      <td>1,378.50</td>\n",
              "      <td>1,409.60</td>\n",
              "      <td>1,410.90</td>\n",
              "      <td>1,375.80</td>\n",
              "      <td>0.12K</td>\n",
              "      <td>-3.10%</td>\n",
              "      <td>1,422.60</td>\n",
              "      <td>1</td>\n",
              "    </tr>\n",
              "  </tbody>\n",
              "</table>\n",
              "<p>2741 rows × 9 columns</p>\n",
              "</div>"
            ],
            "text/plain": [
              "              Date     Price      Open  ... Change %    Future target\n",
              "0     Jul 02, 2021  1,778.20  1,775.80  ...    0.08%  1,776.80      0\n",
              "1     Jul 01, 2021  1,776.80  1,770.80  ...    0.29%  1,771.60      0\n",
              "2     Jun 30, 2021  1,771.60  1,761.90  ...    0.45%  1,763.60      0\n",
              "3     Jun 29, 2021  1,763.60  1,778.80  ...   -0.96%  1,780.70      1\n",
              "4     Jun 28, 2021  1,780.70  1,782.00  ...    0.16%  1,777.80      0\n",
              "...            ...       ...       ...  ...      ...       ...    ...\n",
              "2736  Jan 10, 2011  1,373.70  1,369.00  ...    0.38%  1,368.50      0\n",
              "2737  Jan 07, 2011  1,368.50  1,372.70  ...   -0.21%  1,371.40      1\n",
              "2738  Jan 06, 2011  1,371.40  1,374.80  ...   -0.15%  1,373.40      1\n",
              "2739  Jan 05, 2011  1,373.40  1,383.40  ...   -0.37%  1,378.50      1\n",
              "2740  Jan 04, 2011  1,378.50  1,409.60  ...   -3.10%  1,422.60      1\n",
              "\n",
              "[2741 rows x 9 columns]"
            ]
          },
          "metadata": {
            "tags": []
          },
          "execution_count": 5
        }
      ]
    },
    {
      "cell_type": "code",
      "metadata": {
        "id": "dBnUd5Lg-_km"
      },
      "source": [
        "df['Date'] = pd.to_datetime(df['Date'])\n",
        "df1['Date'] = pd.to_datetime(df1[\"Date\"])\n"
      ],
      "execution_count": null,
      "outputs": []
    },
    {
      "cell_type": "code",
      "metadata": {
        "colab": {
          "base_uri": "https://localhost:8080/",
          "height": 423
        },
        "id": "VyvvQHM_-_kn",
        "outputId": "0e127119-29f2-4d3b-bd2e-0b6b4914aeae"
      },
      "source": [
        "# df['Head_line'] = df['Head_line'].str.replace('\\d+', '')\n",
        "# df['Head_line'] = df['Head_line'].str.replace('’', '')\n",
        "\n",
        "df\n"
      ],
      "execution_count": null,
      "outputs": [
        {
          "output_type": "execute_result",
          "data": {
            "text/html": [
              "<div>\n",
              "<style scoped>\n",
              "    .dataframe tbody tr th:only-of-type {\n",
              "        vertical-align: middle;\n",
              "    }\n",
              "\n",
              "    .dataframe tbody tr th {\n",
              "        vertical-align: top;\n",
              "    }\n",
              "\n",
              "    .dataframe thead th {\n",
              "        text-align: right;\n",
              "    }\n",
              "</style>\n",
              "<table border=\"1\" class=\"dataframe\">\n",
              "  <thead>\n",
              "    <tr style=\"text-align: right;\">\n",
              "      <th></th>\n",
              "      <th>Date</th>\n",
              "      <th>Head_line</th>\n",
              "    </tr>\n",
              "  </thead>\n",
              "  <tbody>\n",
              "    <tr>\n",
              "      <th>1</th>\n",
              "      <td>2012-04-01</td>\n",
              "      <td>Gold climbs as investors ditch dollar on China...</td>\n",
              "    </tr>\n",
              "    <tr>\n",
              "      <th>2</th>\n",
              "      <td>2013-04-01</td>\n",
              "      <td>Gold prices rise as U.S. manufacturing index s...</td>\n",
              "    </tr>\n",
              "    <tr>\n",
              "      <th>3</th>\n",
              "      <td>2014-04-01</td>\n",
              "      <td>Gold prices up in early Asia trade in cautious...</td>\n",
              "    </tr>\n",
              "    <tr>\n",
              "      <th>4</th>\n",
              "      <td>2015-04-01</td>\n",
              "      <td>Gold prices down in early Asia as focus turns ...</td>\n",
              "    </tr>\n",
              "    <tr>\n",
              "      <th>5</th>\n",
              "      <td>2016-04-01</td>\n",
              "      <td>CFTC - Commitments of Traders - No Major Chang...</td>\n",
              "    </tr>\n",
              "    <tr>\n",
              "      <th>...</th>\n",
              "      <td>...</td>\n",
              "      <td>...</td>\n",
              "    </tr>\n",
              "    <tr>\n",
              "      <th>3208</th>\n",
              "      <td>2014-09-30</td>\n",
              "      <td>Gold prices ease in Asia as investors watch do...</td>\n",
              "    </tr>\n",
              "    <tr>\n",
              "      <th>3209</th>\n",
              "      <td>2015-09-30</td>\n",
              "      <td>Gold prices mostly flat in Asia as China, othe...</td>\n",
              "    </tr>\n",
              "    <tr>\n",
              "      <th>3210</th>\n",
              "      <td>2016-09-30</td>\n",
              "      <td>Chicago PMI rises more than expected in Septem...</td>\n",
              "    </tr>\n",
              "    <tr>\n",
              "      <th>3211</th>\n",
              "      <td>2019-09-30</td>\n",
              "      <td>Gold Plummets as Palladium Returns Atop Precio...</td>\n",
              "    </tr>\n",
              "    <tr>\n",
              "      <th>3212</th>\n",
              "      <td>2020-09-30</td>\n",
              "      <td>Gold up 4% for Q3 Despite Volatility Sparked b...</td>\n",
              "    </tr>\n",
              "  </tbody>\n",
              "</table>\n",
              "<p>3212 rows × 2 columns</p>\n",
              "</div>"
            ],
            "text/plain": [
              "           Date                                          Head_line\n",
              "1    2012-04-01  Gold climbs as investors ditch dollar on China...\n",
              "2    2013-04-01  Gold prices rise as U.S. manufacturing index s...\n",
              "3    2014-04-01  Gold prices up in early Asia trade in cautious...\n",
              "4    2015-04-01  Gold prices down in early Asia as focus turns ...\n",
              "5    2016-04-01  CFTC - Commitments of Traders - No Major Chang...\n",
              "...         ...                                                ...\n",
              "3208 2014-09-30  Gold prices ease in Asia as investors watch do...\n",
              "3209 2015-09-30  Gold prices mostly flat in Asia as China, othe...\n",
              "3210 2016-09-30  Chicago PMI rises more than expected in Septem...\n",
              "3211 2019-09-30  Gold Plummets as Palladium Returns Atop Precio...\n",
              "3212 2020-09-30  Gold up 4% for Q3 Despite Volatility Sparked b...\n",
              "\n",
              "[3212 rows x 2 columns]"
            ]
          },
          "metadata": {
            "tags": []
          },
          "execution_count": 7
        }
      ]
    },
    {
      "cell_type": "code",
      "metadata": {
        "id": "MyLah2_d-_ko"
      },
      "source": [
        "df_n = df.set_index('Date').join(df1.set_index('Date'))"
      ],
      "execution_count": null,
      "outputs": []
    },
    {
      "cell_type": "code",
      "metadata": {
        "colab": {
          "base_uri": "https://localhost:8080/"
        },
        "id": "ylASwSOP-_kp",
        "outputId": "29e16453-a121-4565-cd19-5786c8bcd024"
      },
      "source": [
        "df_n.dropna(inplace=True)\n",
        "df_n.isna().sum()"
      ],
      "execution_count": null,
      "outputs": [
        {
          "output_type": "execute_result",
          "data": {
            "text/plain": [
              "Head_line    0\n",
              "Price        0\n",
              "Open         0\n",
              "High         0\n",
              "Low          0\n",
              "Vol.         0\n",
              "Change %     0\n",
              "Future       0\n",
              "target       0\n",
              "dtype: int64"
            ]
          },
          "metadata": {
            "tags": []
          },
          "execution_count": 9
        }
      ]
    },
    {
      "cell_type": "code",
      "metadata": {
        "colab": {
          "base_uri": "https://localhost:8080/",
          "height": 455
        },
        "id": "vONeAJmh-_kq",
        "outputId": "9e199ab3-c042-40f1-9f8a-e7c8bbeac201"
      },
      "source": [
        "df_n.sort_index(inplace=True)\n",
        "df_n"
      ],
      "execution_count": null,
      "outputs": [
        {
          "output_type": "execute_result",
          "data": {
            "text/html": [
              "<div>\n",
              "<style scoped>\n",
              "    .dataframe tbody tr th:only-of-type {\n",
              "        vertical-align: middle;\n",
              "    }\n",
              "\n",
              "    .dataframe tbody tr th {\n",
              "        vertical-align: top;\n",
              "    }\n",
              "\n",
              "    .dataframe thead th {\n",
              "        text-align: right;\n",
              "    }\n",
              "</style>\n",
              "<table border=\"1\" class=\"dataframe\">\n",
              "  <thead>\n",
              "    <tr style=\"text-align: right;\">\n",
              "      <th></th>\n",
              "      <th>Head_line</th>\n",
              "      <th>Price</th>\n",
              "      <th>Open</th>\n",
              "      <th>High</th>\n",
              "      <th>Low</th>\n",
              "      <th>Vol.</th>\n",
              "      <th>Change %</th>\n",
              "      <th>Future</th>\n",
              "      <th>target</th>\n",
              "    </tr>\n",
              "    <tr>\n",
              "      <th>Date</th>\n",
              "      <th></th>\n",
              "      <th></th>\n",
              "      <th></th>\n",
              "      <th></th>\n",
              "      <th></th>\n",
              "      <th></th>\n",
              "      <th></th>\n",
              "      <th></th>\n",
              "      <th></th>\n",
              "    </tr>\n",
              "  </thead>\n",
              "  <tbody>\n",
              "    <tr>\n",
              "      <th>2011-04-08</th>\n",
              "      <td>US STOCKS-Market falls in late sell-off, volum...</td>\n",
              "      <td>1,473.40</td>\n",
              "      <td>1,457.60</td>\n",
              "      <td>1,475.50</td>\n",
              "      <td>1,457.50</td>\n",
              "      <td>1.41K</td>\n",
              "      <td>1.02%</td>\n",
              "      <td>1,458.50</td>\n",
              "      <td>0.0</td>\n",
              "    </tr>\n",
              "    <tr>\n",
              "      <th>2011-04-11</th>\n",
              "      <td>PRECIOUS-Gold falls nearly 1 pct on oil, silve...</td>\n",
              "      <td>1,467.40</td>\n",
              "      <td>1,476.00</td>\n",
              "      <td>1,476.00</td>\n",
              "      <td>1,459.70</td>\n",
              "      <td>0.38K</td>\n",
              "      <td>-0.41%</td>\n",
              "      <td>1,473.40</td>\n",
              "      <td>1.0</td>\n",
              "    </tr>\n",
              "    <tr>\n",
              "      <th>2011-04-12</th>\n",
              "      <td>PRECIOUS-Gold regains strength after fall; ETF...</td>\n",
              "      <td>1,452.90</td>\n",
              "      <td>1,461.80</td>\n",
              "      <td>1,467.20</td>\n",
              "      <td>1,444.40</td>\n",
              "      <td>0.35K</td>\n",
              "      <td>-0.99%</td>\n",
              "      <td>1,467.40</td>\n",
              "      <td>1.0</td>\n",
              "    </tr>\n",
              "    <tr>\n",
              "      <th>2011-04-13</th>\n",
              "      <td>UPDATE 10-Glencore seeks up to $12.1 bln in IP...</td>\n",
              "      <td>1,454.90</td>\n",
              "      <td>1,455.00</td>\n",
              "      <td>1,462.00</td>\n",
              "      <td>1,454.00</td>\n",
              "      <td>0.20K</td>\n",
              "      <td>0.14%</td>\n",
              "      <td>1,452.90</td>\n",
              "      <td>0.0</td>\n",
              "    </tr>\n",
              "    <tr>\n",
              "      <th>2011-04-14</th>\n",
              "      <td>PRECIOUS-Gold hits record on weak dollar, Chin...</td>\n",
              "      <td>1,471.70</td>\n",
              "      <td>1,456.80</td>\n",
              "      <td>1,476.00</td>\n",
              "      <td>1,452.70</td>\n",
              "      <td>0.54K</td>\n",
              "      <td>1.15%</td>\n",
              "      <td>1,454.90</td>\n",
              "      <td>0.0</td>\n",
              "    </tr>\n",
              "    <tr>\n",
              "      <th>...</th>\n",
              "      <td>...</td>\n",
              "      <td>...</td>\n",
              "      <td>...</td>\n",
              "      <td>...</td>\n",
              "      <td>...</td>\n",
              "      <td>...</td>\n",
              "      <td>...</td>\n",
              "      <td>...</td>\n",
              "      <td>...</td>\n",
              "    </tr>\n",
              "    <tr>\n",
              "      <th>2021-06-24</th>\n",
              "      <td>Melt-Up in U.S. Equities as President Announce...</td>\n",
              "      <td>1,776.70</td>\n",
              "      <td>1,778.20</td>\n",
              "      <td>1,788.60</td>\n",
              "      <td>1,772.70</td>\n",
              "      <td>152.23K</td>\n",
              "      <td>-0.38%</td>\n",
              "      <td>1,783.40</td>\n",
              "      <td>1.0</td>\n",
              "    </tr>\n",
              "    <tr>\n",
              "      <th>2021-06-25</th>\n",
              "      <td>PCE Inflation Gauge Rising to 2008 Levels Take...</td>\n",
              "      <td>1,777.80</td>\n",
              "      <td>1,775.70</td>\n",
              "      <td>1,791.00</td>\n",
              "      <td>1,773.60</td>\n",
              "      <td>161.20K</td>\n",
              "      <td>0.06%</td>\n",
              "      <td>1,776.70</td>\n",
              "      <td>0.0</td>\n",
              "    </tr>\n",
              "    <tr>\n",
              "      <th>2021-06-28</th>\n",
              "      <td>Gold Heads for Worst Month Since 2016 on Fed’s...</td>\n",
              "      <td>1,780.70</td>\n",
              "      <td>1,782.00</td>\n",
              "      <td>1,786.10</td>\n",
              "      <td>1,770.40</td>\n",
              "      <td>160.79K</td>\n",
              "      <td>0.16%</td>\n",
              "      <td>1,777.80</td>\n",
              "      <td>0.0</td>\n",
              "    </tr>\n",
              "    <tr>\n",
              "      <th>2021-06-29</th>\n",
              "      <td>Gold Heads for Worst Month Since 2016 on Dolla...</td>\n",
              "      <td>1,763.60</td>\n",
              "      <td>1,778.80</td>\n",
              "      <td>1,779.20</td>\n",
              "      <td>1,750.10</td>\n",
              "      <td>239.91K</td>\n",
              "      <td>-0.96%</td>\n",
              "      <td>1,780.70</td>\n",
              "      <td>1.0</td>\n",
              "    </tr>\n",
              "    <tr>\n",
              "      <th>2021-06-30</th>\n",
              "      <td>The Last Trading Day of the First Half of 2021...</td>\n",
              "      <td>1,771.60</td>\n",
              "      <td>1,761.90</td>\n",
              "      <td>1,774.70</td>\n",
              "      <td>1,753.20</td>\n",
              "      <td>177.89K</td>\n",
              "      <td>0.45%</td>\n",
              "      <td>1,763.60</td>\n",
              "      <td>0.0</td>\n",
              "    </tr>\n",
              "  </tbody>\n",
              "</table>\n",
              "<p>2658 rows × 9 columns</p>\n",
              "</div>"
            ],
            "text/plain": [
              "                                                    Head_line  ... target\n",
              "Date                                                           ...       \n",
              "2011-04-08  US STOCKS-Market falls in late sell-off, volum...  ...    0.0\n",
              "2011-04-11  PRECIOUS-Gold falls nearly 1 pct on oil, silve...  ...    1.0\n",
              "2011-04-12  PRECIOUS-Gold regains strength after fall; ETF...  ...    1.0\n",
              "2011-04-13  UPDATE 10-Glencore seeks up to $12.1 bln in IP...  ...    0.0\n",
              "2011-04-14  PRECIOUS-Gold hits record on weak dollar, Chin...  ...    0.0\n",
              "...                                                       ...  ...    ...\n",
              "2021-06-24  Melt-Up in U.S. Equities as President Announce...  ...    1.0\n",
              "2021-06-25  PCE Inflation Gauge Rising to 2008 Levels Take...  ...    0.0\n",
              "2021-06-28  Gold Heads for Worst Month Since 2016 on Fed’s...  ...    0.0\n",
              "2021-06-29  Gold Heads for Worst Month Since 2016 on Dolla...  ...    1.0\n",
              "2021-06-30  The Last Trading Day of the First Half of 2021...  ...    0.0\n",
              "\n",
              "[2658 rows x 9 columns]"
            ]
          },
          "metadata": {
            "tags": []
          },
          "execution_count": 10
        }
      ]
    },
    {
      "cell_type": "code",
      "metadata": {
        "id": "GMj4WyZKNAId"
      },
      "source": [
        "contractions = {\n",
        "\"ain't\": \"am not\",\n",
        "\"aren't\": \"are not\",\n",
        "\"can't\": \"cannot\",\n",
        "\"can't've\": \"cannot have\",\n",
        "\"'cause\": \"because\",\n",
        "\"could've\": \"could have\",\n",
        "\"couldn't\": \"could not\",\n",
        "\"couldn't've\": \"could not have\",\n",
        "\"didn't\": \"did not\",\n",
        "\"doesn't\": \"does not\",\n",
        "\"don't\": \"do not\",\n",
        "\"hadn't\": \"had not\",\n",
        "\"hadn't've\": \"had not have\",\n",
        "\"hasn't\": \"has not\",\n",
        "\"haven't\": \"have not\",\n",
        "\"he'd\": \"he would\",\n",
        "\"he'd've\": \"he would have\",\n",
        "\"he'll\": \"he will\",\n",
        "\"he's\": \"he is\",\n",
        "\"how'd\": \"how did\",\n",
        "\"how'll\": \"how will\",\n",
        "\"how's\": \"how is\",\n",
        "\"i'd\": \"i would\",\n",
        "\"i'll\": \"i will\",\n",
        "\"i'm\": \"i am\",\n",
        "\"i've\": \"i have\",\n",
        "\"isn't\": \"is not\",\n",
        "\"it'd\": \"it would\",\n",
        "\"it'll\": \"it will\",\n",
        "\"it's\": \"it is\",\n",
        "\"let's\": \"let us\",\n",
        "\"ma'am\": \"madam\",\n",
        "\"mayn't\": \"may not\",\n",
        "\"might've\": \"might have\",\n",
        "\"mightn't\": \"might not\",\n",
        "\"must've\": \"must have\",\n",
        "\"mustn't\": \"must not\",\n",
        "\"needn't\": \"need not\",\n",
        "\"oughtn't\": \"ought not\",\n",
        "\"shan't\": \"shall not\",\n",
        "\"sha'n't\": \"shall not\",\n",
        "\"she'd\": \"she would\",\n",
        "\"she'll\": \"she will\",\n",
        "\"she's\": \"she is\",\n",
        "\"should've\": \"should have\",\n",
        "\"shouldn't\": \"should not\",\n",
        "\"that'd\": \"that would\",\n",
        "\"that's\": \"that is\",\n",
        "\"there'd\": \"there had\",\n",
        "\"there's\": \"there is\",\n",
        "\"they'd\": \"they would\",\n",
        "\"they'll\": \"they will\",\n",
        "\"they're\": \"they are\",\n",
        "\"they've\": \"they have\",\n",
        "\"wasn't\": \"was not\",\n",
        "\"we'd\": \"we would\",\n",
        "\"we'll\": \"we will\",\n",
        "\"we're\": \"we are\",\n",
        "\"we've\": \"we have\",\n",
        "\"weren't\": \"were not\",\n",
        "\"what'll\": \"what will\",\n",
        "\"what're\": \"what are\",\n",
        "\"what's\": \"what is\",\n",
        "\"what've\": \"what have\",\n",
        "\"where'd\": \"where did\",\n",
        "\"where's\": \"where is\",\n",
        "\"who'll\": \"who will\",\n",
        "\"who's\": \"who is\",\n",
        "\"won't\": \"will not\",\n",
        "\"won’t\": \"will not\",\n",
        "\"wouldn't\": \"would not\",\n",
        "\"you'd\": \"you would\",\n",
        "\"you'll\": \"you will\",\n",
        "\"you're\": \"you are\"\n",
        "}\n",
        "\n"
      ],
      "execution_count": null,
      "outputs": []
    },
    {
      "cell_type": "code",
      "metadata": {
        "id": "KRxKmXXZM_-9"
      },
      "source": [
        "def clean_text(text, remove_stopwords = True):\n",
        "    '''Remove unwanted characters and format the text to create fewer nulls word embeddings'''\n",
        "\n",
        "    # Convert words to lower case\n",
        "    text = text.lower()\n",
        "\n",
        "    # Replace contractions with their longer forms\n",
        "    if True:\n",
        "        text = text.split()\n",
        "        new_text = []\n",
        "        for word in text:\n",
        "            if word in contractions:\n",
        "                new_text.append(contractions[word])\n",
        "            else:\n",
        "                new_text.append(word)\n",
        "        text = \" \".join(new_text)\n",
        "\n",
        "    # Format words and remove unwanted characters\n",
        "    text = re.sub(r'&amp;', '', text)\n",
        "    text = re.sub(r'0,0', '00', text)\n",
        "    text = re.sub(r'[_\"\\-;%()|.,+&=*%.,!?:#@\\[\\]]', ' ', text)\n",
        "    text = re.sub(r'\\'', ' ', text)\n",
        "    text = re.sub(r'\\$', ' $ ', text)\n",
        "    text = re.sub(r'u s ', ' united states ', text)\n",
        "    text = re.sub(r'u n ', ' united nations ', text)\n",
        "    text = re.sub(r'u k ', ' united kingdom ', text)\n",
        "    text = re.sub(r'j k ', ' jk ', text)\n",
        "    text = re.sub(r' s ', ' ', text)\n",
        "    text = re.sub(r' yr ', ' year ', text)\n",
        "    text = re.sub(r' l g b t ', ' lgbt ', text)\n",
        "    text = re.sub(r'0km ', '0 km ', text)\n",
        "\n",
        "    # Optionally, remove stop words\n",
        "    if remove_stopwords:\n",
        "        text = text.split()\n",
        "        stops = set(stopwords.words(\"english\"))\n",
        "        text = [w for w in text if not w in stops]\n",
        "        text = \" \".join(text)\n",
        "\n",
        "    return text"
      ],
      "execution_count": null,
      "outputs": []
    },
    {
      "cell_type": "code",
      "metadata": {
        "colab": {
          "base_uri": "https://localhost:8080/"
        },
        "id": "B5hj1h49pynB",
        "outputId": "8b99750e-0d99-424d-cb20-5a8623cc83d7"
      },
      "source": [
        "headlines = df_n['Head_line']\n",
        "headlines"
      ],
      "execution_count": null,
      "outputs": [
        {
          "output_type": "execute_result",
          "data": {
            "text/plain": [
              "Date\n",
              "2011-04-08    US STOCKS-Market falls in late sell-off, volum...\n",
              "2011-04-11    PRECIOUS-Gold falls nearly 1 pct on oil, silve...\n",
              "2011-04-12    PRECIOUS-Gold regains strength after fall; ETF...\n",
              "2011-04-13    UPDATE 10-Glencore seeks up to $12.1 bln in IP...\n",
              "2011-04-14    PRECIOUS-Gold hits record on weak dollar, Chin...\n",
              "                                    ...                        \n",
              "2021-06-24    Melt-Up in U.S. Equities as President Announce...\n",
              "2021-06-25    PCE Inflation Gauge Rising to 2008 Levels Take...\n",
              "2021-06-28    Gold Heads for Worst Month Since 2016 on Fed’s...\n",
              "2021-06-29    Gold Heads for Worst Month Since 2016 on Dolla...\n",
              "2021-06-30    The Last Trading Day of the First Half of 2021...\n",
              "Name: Head_line, Length: 2658, dtype: object"
            ]
          },
          "metadata": {
            "tags": []
          },
          "execution_count": 13
        }
      ]
    },
    {
      "cell_type": "code",
      "metadata": {
        "id": "I8IGlLmXM_p0"
      },
      "source": [
        "# Clean the headlines\n",
        "clean_headlines = []\n",
        "\n",
        "for daily_headlines in headlines:\n",
        "    clean_daily_headlines = []\n",
        "    clean_daily_headlines.append(clean_text(daily_headlines))\n",
        "    # for headline in daily_headlines:\n",
        "\n",
        "    #     print(headline)\n",
        "    clean_headlines.append(clean_daily_headlines)"
      ],
      "execution_count": null,
      "outputs": []
    },
    {
      "cell_type": "code",
      "metadata": {
        "colab": {
          "base_uri": "https://localhost:8080/"
        },
        "id": "hKK_H3QlOmdT",
        "outputId": "21dec364-ff06-42c1-9318-dc5a17c72b2e"
      },
      "source": [
        "clean_headlines[2]"
      ],
      "execution_count": null,
      "outputs": [
        {
          "output_type": "execute_result",
          "data": {
            "text/plain": [
              "['precious gold regains strength fall etf holdings slip global markets yen weakens oil resumes climb risk sought nymex crude extends falls 3rd day demand concerns precious gold regains strength fall etfs slip global markets oil slumps growth worries stocks drop us stocks energy drives wall st lower alcoa results drag grains tumble month goldman japan us stocks wall st falls oil prices alcoa results drag global markets world stocks oil prices slump global growth concerns spark ftse retreat grains markets plunge investors cash corn sinks us stocks wall st drops 1 pct oil fall alcoa revenue dollar drops majors japan woes earnings doubts spur europe stock slide forex yen swiss franc rise broadly euro hits 15 mo high global markets goldman forces oil retreat hitting stocks us stocks wall st tumbles 1 pct oil drop alcoa revenue global markets stocks commodities slump economic worries 0rpt special report united states china start cold war 0rpt special report united states china start cold war global markets stocks commodities fall growth concern us stocks wall st falls alcoa japan miners sell us stocks wall st set lower open japan earnings concerns us stocks futures pressured alcoa revenue miss japan crisis european shares hit 1 week low seen range bound mixed sentiment uncertainty shake forex market metals copper falls investors worry chinese demand global markets commodities record highs japan yen firms precious gold posts biggest fall month goldman warns european shares fall japan worries miners hk shares slide energy commodities weakness nikkei drops quake impact worries oil special report united states china start cold war']"
            ]
          },
          "metadata": {
            "tags": []
          },
          "execution_count": 15
        }
      ]
    },
    {
      "cell_type": "code",
      "metadata": {
        "id": "ka8jAGZzrZyh"
      },
      "source": [
        "df_n['Head_line'] = [','.join(map(str, l)) for l in clean_headlines]\n",
        "df_n.to_excel('final_data_oil.xlsx')\n"
      ],
      "execution_count": null,
      "outputs": []
    },
    {
      "cell_type": "code",
      "metadata": {
        "colab": {
          "base_uri": "https://localhost:8080/"
        },
        "id": "l-lmisvsRlV-",
        "outputId": "20794e76-3e6f-4ee0-df01-5a50eaf7ddba"
      },
      "source": [
        "train_text = df_n['Head_line']\n",
        "WORD_NUM = 5000\n",
        "tokenizer = Tokenizer(num_words = WORD_NUM, lower= True)\n",
        "tokenizer.fit_on_texts(train_text)\n",
        "word_index = tokenizer.word_index\n",
        "vocab_size = len(tokenizer.word_index) + 1  # number of unique words plus \"0\"(use for padding)\n",
        "vocab_size"
      ],
      "execution_count": null,
      "outputs": [
        {
          "output_type": "execute_result",
          "data": {
            "text/plain": [
              "6389"
            ]
          },
          "metadata": {
            "tags": []
          },
          "execution_count": 17
        }
      ]
    },
    {
      "cell_type": "code",
      "metadata": {
        "colab": {
          "base_uri": "https://localhost:8080/"
        },
        "id": "c5H9kUlMSOsu",
        "outputId": "99fdcfc7-c25e-4a2b-8365-d58e6338f797"
      },
      "source": [
        "dict(list(word_index.items())[:10])"
      ],
      "execution_count": null,
      "outputs": [
        {
          "output_type": "execute_result",
          "data": {
            "text/plain": [
              "{'dollar': 9,\n",
              " 'futures': 5,\n",
              " 'gold': 1,\n",
              " 'higher': 8,\n",
              " 'lower': 10,\n",
              " 'prices': 7,\n",
              " 'states': 4,\n",
              " 'stocks': 2,\n",
              " 'trade': 6,\n",
              " 'united': 3}"
            ]
          },
          "metadata": {
            "tags": []
          },
          "execution_count": 18
        }
      ]
    },
    {
      "cell_type": "code",
      "metadata": {
        "colab": {
          "base_uri": "https://localhost:8080/"
        },
        "id": "j0xNQtLQSbjN",
        "outputId": "dda25b2e-7e20-446d-a83f-c374577d3126"
      },
      "source": [
        "train_seq = tokenizer.texts_to_sequences(train_text)\n",
        "print(train_seq[1])"
      ],
      "execution_count": null,
      "outputs": [
        {
          "output_type": "stream",
          "text": [
            "[61, 1, 33, 495, 14, 291, 30, 43, 575, 57, 400, 858, 1665, 2752, 3614, 21, 3615, 1198, 1198, 6, 18, 19, 115, 3616, 30, 162, 92, 292, 320, 61, 1, 33, 89, 43, 575, 57, 400, 299, 14, 2753, 1138, 175, 211, 3617, 565, 73, 258, 203, 858, 1199, 268, 2278, 816, 715, 74, 39, 1806, 2754, 18, 19, 30, 100, 70, 640, 1424, 2, 18, 19, 30, 212, 70, 103, 2, 113, 55, 2, 19, 35, 75, 524, 515, 496, 61, 1, 43, 354, 59, 1047, 257, 18, 19, 30, 33, 1424, 114, 112, 2, 110, 23, 331, 1140, 37, 15, 400, 3618, 3619, 3620, 2755, 1260, 18, 19, 30, 31, 1424, 2, 71, 9, 292, 24, 597, 1667, 296, 681, 2279, 292, 9, 20, 682, 1668, 296, 681, 2279, 292, 9, 20, 682, 1668, 1199, 268, 2278, 816, 715, 74, 39, 1806, 2754, 55, 2, 5, 64, 75, 179, 318, 327, 132, 2756, 69, 75, 112, 55, 2, 5, 48, 75, 53, 46, 91, 170, 1807, 346, 35, 194, 220, 507, 21, 2, 1539, 22, 716, 717, 449, 837, 61, 1, 43, 354, 59, 1047, 257, 132, 87, 8, 318, 146, 2756, 1048, 18, 19, 41, 102, 1261, 40, 345, 2, 139, 21, 91, 1539, 22, 911, 449, 837, 61, 1, 79, 89, 40, 43, 150, 575, 57, 63]\n"
          ],
          "name": "stdout"
        }
      ]
    },
    {
      "cell_type": "code",
      "metadata": {
        "colab": {
          "base_uri": "https://localhost:8080/",
          "height": 265
        },
        "id": "yHjrxPiRSdl3",
        "outputId": "6a6a72e5-e629-43f5-bdca-79a670b51683"
      },
      "source": [
        "p=[len(s) for s in train_seq]\n",
        "plt.hist(p, bins=15)\n",
        "plt.show()"
      ],
      "execution_count": null,
      "outputs": [
        {
          "output_type": "display_data",
          "data": {
            "image/png": "[encoded data removed]",
            "text/plain": [
              "<Figure size 432x288 with 1 Axes>"
            ]
          },
          "metadata": {
            "tags": [],
            "needs_background": "light"
          }
        }
      ]
    },
    {
      "cell_type": "code",
      "metadata": {
        "colab": {
          "base_uri": "https://localhost:8080/"
        },
        "id": "bwJsa_GySgDD",
        "outputId": "e26aef79-0ed9-46aa-d62b-06d9b116be0f"
      },
      "source": [
        "maxlen= 60\n",
        "train_pad = pad_sequences(train_seq, maxlen= maxlen, padding='post', truncating='post')\n",
        "print(train_pad.shape)"
      ],
      "execution_count": null,
      "outputs": [
        {
          "output_type": "stream",
          "text": [
            "(2658, 60)\n"
          ],
          "name": "stdout"
        }
      ]
    },
    {
      "cell_type": "code",
      "metadata": {
        "colab": {
          "base_uri": "https://localhost:8080/"
        },
        "id": "r9qvBgF2TPzM",
        "outputId": "e0219398-71a3-42f3-daef-314693a75042"
      },
      "source": [
        "train_pad[200]"
      ],
      "execution_count": null,
      "outputs": [
        {
          "output_type": "execute_result",
          "data": {
            "text/plain": [
              "array([  1,  93,   9, 346,  40, 166,   1,   8, 153, 252,   1,   5,  45,\n",
              "       169,  15,  22,   6, 303, 953,  23,   5, 127, 144,  56, 238, 464,\n",
              "         1,   5, 108, 120,  15,  22, 144,  56, 238,  53,   0,   0,   0,\n",
              "         0,   0,   0,   0,   0,   0,   0,   0,   0,   0,   0,   0,   0,\n",
              "         0,   0,   0,   0,   0,   0,   0,   0], dtype=int32)"
            ]
          },
          "metadata": {
            "tags": []
          },
          "execution_count": 22
        }
      ]
    },
    {
      "cell_type": "code",
      "metadata": {
        "colab": {
          "base_uri": "https://localhost:8080/",
          "height": 443
        },
        "id": "nDyn4goNsK-U",
        "outputId": "70f57828-f4af-4b03-ca0e-0e11a657d7de"
      },
      "source": [
        "csv =pd.DataFrame(train_pad)\n",
        "csv"
      ],
      "execution_count": null,
      "outputs": [
        {
          "output_type": "execute_result",
          "data": {
            "text/html": [
              "<div>\n",
              "<style scoped>\n",
              "    .dataframe tbody tr th:only-of-type {\n",
              "        vertical-align: middle;\n",
              "    }\n",
              "\n",
              "    .dataframe tbody tr th {\n",
              "        vertical-align: top;\n",
              "    }\n",
              "\n",
              "    .dataframe thead th {\n",
              "        text-align: right;\n",
              "    }\n",
              "</style>\n",
              "<table border=\"1\" class=\"dataframe\">\n",
              "  <thead>\n",
              "    <tr style=\"text-align: right;\">\n",
              "      <th></th>\n",
              "      <th>0</th>\n",
              "      <th>1</th>\n",
              "      <th>2</th>\n",
              "      <th>3</th>\n",
              "      <th>4</th>\n",
              "      <th>5</th>\n",
              "      <th>6</th>\n",
              "      <th>7</th>\n",
              "      <th>8</th>\n",
              "      <th>9</th>\n",
              "      <th>10</th>\n",
              "      <th>11</th>\n",
              "      <th>12</th>\n",
              "      <th>13</th>\n",
              "      <th>14</th>\n",
              "      <th>15</th>\n",
              "      <th>16</th>\n",
              "      <th>17</th>\n",
              "      <th>18</th>\n",
              "      <th>19</th>\n",
              "      <th>20</th>\n",
              "      <th>21</th>\n",
              "      <th>22</th>\n",
              "      <th>23</th>\n",
              "      <th>24</th>\n",
              "      <th>25</th>\n",
              "      <th>26</th>\n",
              "      <th>27</th>\n",
              "      <th>28</th>\n",
              "      <th>29</th>\n",
              "      <th>30</th>\n",
              "      <th>31</th>\n",
              "      <th>32</th>\n",
              "      <th>33</th>\n",
              "      <th>34</th>\n",
              "      <th>35</th>\n",
              "      <th>36</th>\n",
              "      <th>37</th>\n",
              "      <th>38</th>\n",
              "      <th>39</th>\n",
              "      <th>40</th>\n",
              "      <th>41</th>\n",
              "      <th>42</th>\n",
              "      <th>43</th>\n",
              "      <th>44</th>\n",
              "      <th>45</th>\n",
              "      <th>46</th>\n",
              "      <th>47</th>\n",
              "      <th>48</th>\n",
              "      <th>49</th>\n",
              "      <th>50</th>\n",
              "      <th>51</th>\n",
              "      <th>52</th>\n",
              "      <th>53</th>\n",
              "      <th>54</th>\n",
              "      <th>55</th>\n",
              "      <th>56</th>\n",
              "      <th>57</th>\n",
              "      <th>58</th>\n",
              "      <th>59</th>\n",
              "    </tr>\n",
              "  </thead>\n",
              "  <tbody>\n",
              "    <tr>\n",
              "      <th>0</th>\n",
              "      <td>55</td>\n",
              "      <td>2</td>\n",
              "      <td>50</td>\n",
              "      <td>33</td>\n",
              "      <td>937</td>\n",
              "      <td>377</td>\n",
              "      <td>1664</td>\n",
              "      <td>857</td>\n",
              "      <td>18</td>\n",
              "      <td>19</td>\n",
              "      <td>257</td>\n",
              "      <td>30</td>\n",
              "      <td>191</td>\n",
              "      <td>2751</td>\n",
              "      <td>55</td>\n",
              "      <td>9</td>\n",
              "      <td>212</td>\n",
              "      <td>386</td>\n",
              "      <td>1995</td>\n",
              "      <td>56</td>\n",
              "      <td>58</td>\n",
              "      <td>187</td>\n",
              "      <td>539</td>\n",
              "      <td>1138</td>\n",
              "      <td>32</td>\n",
              "      <td>14</td>\n",
              "      <td>26</td>\n",
              "      <td>57</td>\n",
              "      <td>22</td>\n",
              "      <td>110</td>\n",
              "      <td>23</td>\n",
              "      <td>331</td>\n",
              "      <td>51</td>\n",
              "      <td>938</td>\n",
              "      <td>73</td>\n",
              "      <td>639</td>\n",
              "      <td>55</td>\n",
              "      <td>2</td>\n",
              "      <td>29</td>\n",
              "      <td>263</td>\n",
              "      <td>33</td>\n",
              "      <td>1095</td>\n",
              "      <td>3611</td>\n",
              "      <td>2</td>\n",
              "      <td>1665</td>\n",
              "      <td>299</td>\n",
              "      <td>14</td>\n",
              "      <td>540</td>\n",
              "      <td>20</td>\n",
              "      <td>391</td>\n",
              "      <td>30</td>\n",
              "      <td>1803</td>\n",
              "      <td>1538</td>\n",
              "      <td>55</td>\n",
              "      <td>2</td>\n",
              "      <td>29</td>\n",
              "      <td>263</td>\n",
              "      <td>71</td>\n",
              "      <td>51</td>\n",
              "      <td>1666</td>\n",
              "    </tr>\n",
              "    <tr>\n",
              "      <th>1</th>\n",
              "      <td>61</td>\n",
              "      <td>1</td>\n",
              "      <td>33</td>\n",
              "      <td>495</td>\n",
              "      <td>14</td>\n",
              "      <td>291</td>\n",
              "      <td>30</td>\n",
              "      <td>43</td>\n",
              "      <td>575</td>\n",
              "      <td>57</td>\n",
              "      <td>400</td>\n",
              "      <td>858</td>\n",
              "      <td>1665</td>\n",
              "      <td>2752</td>\n",
              "      <td>3614</td>\n",
              "      <td>21</td>\n",
              "      <td>3615</td>\n",
              "      <td>1198</td>\n",
              "      <td>1198</td>\n",
              "      <td>6</td>\n",
              "      <td>18</td>\n",
              "      <td>19</td>\n",
              "      <td>115</td>\n",
              "      <td>3616</td>\n",
              "      <td>30</td>\n",
              "      <td>162</td>\n",
              "      <td>92</td>\n",
              "      <td>292</td>\n",
              "      <td>320</td>\n",
              "      <td>61</td>\n",
              "      <td>1</td>\n",
              "      <td>33</td>\n",
              "      <td>89</td>\n",
              "      <td>43</td>\n",
              "      <td>575</td>\n",
              "      <td>57</td>\n",
              "      <td>400</td>\n",
              "      <td>299</td>\n",
              "      <td>14</td>\n",
              "      <td>2753</td>\n",
              "      <td>1138</td>\n",
              "      <td>175</td>\n",
              "      <td>211</td>\n",
              "      <td>3617</td>\n",
              "      <td>565</td>\n",
              "      <td>73</td>\n",
              "      <td>258</td>\n",
              "      <td>203</td>\n",
              "      <td>858</td>\n",
              "      <td>1199</td>\n",
              "      <td>268</td>\n",
              "      <td>2278</td>\n",
              "      <td>816</td>\n",
              "      <td>715</td>\n",
              "      <td>74</td>\n",
              "      <td>39</td>\n",
              "      <td>1806</td>\n",
              "      <td>2754</td>\n",
              "      <td>18</td>\n",
              "      <td>19</td>\n",
              "    </tr>\n",
              "    <tr>\n",
              "      <th>2</th>\n",
              "      <td>61</td>\n",
              "      <td>1</td>\n",
              "      <td>683</td>\n",
              "      <td>300</td>\n",
              "      <td>35</td>\n",
              "      <td>423</td>\n",
              "      <td>1540</td>\n",
              "      <td>113</td>\n",
              "      <td>18</td>\n",
              "      <td>19</td>\n",
              "      <td>292</td>\n",
              "      <td>284</td>\n",
              "      <td>30</td>\n",
              "      <td>912</td>\n",
              "      <td>241</td>\n",
              "      <td>115</td>\n",
              "      <td>1541</td>\n",
              "      <td>1425</td>\n",
              "      <td>257</td>\n",
              "      <td>162</td>\n",
              "      <td>33</td>\n",
              "      <td>778</td>\n",
              "      <td>68</td>\n",
              "      <td>70</td>\n",
              "      <td>76</td>\n",
              "      <td>61</td>\n",
              "      <td>1</td>\n",
              "      <td>683</td>\n",
              "      <td>300</td>\n",
              "      <td>35</td>\n",
              "      <td>541</td>\n",
              "      <td>113</td>\n",
              "      <td>18</td>\n",
              "      <td>19</td>\n",
              "      <td>30</td>\n",
              "      <td>212</td>\n",
              "      <td>96</td>\n",
              "      <td>103</td>\n",
              "      <td>2</td>\n",
              "      <td>92</td>\n",
              "      <td>55</td>\n",
              "      <td>2</td>\n",
              "      <td>515</td>\n",
              "      <td>1262</td>\n",
              "      <td>29</td>\n",
              "      <td>263</td>\n",
              "      <td>10</td>\n",
              "      <td>1542</td>\n",
              "      <td>221</td>\n",
              "      <td>913</td>\n",
              "      <td>1096</td>\n",
              "      <td>217</td>\n",
              "      <td>28</td>\n",
              "      <td>525</td>\n",
              "      <td>297</td>\n",
              "      <td>55</td>\n",
              "      <td>2</td>\n",
              "      <td>29</td>\n",
              "      <td>263</td>\n",
              "      <td>33</td>\n",
              "    </tr>\n",
              "    <tr>\n",
              "      <th>3</th>\n",
              "      <td>299</td>\n",
              "      <td>224</td>\n",
              "      <td>1427</td>\n",
              "      <td>1669</td>\n",
              "      <td>355</td>\n",
              "      <td>14</td>\n",
              "      <td>1997</td>\n",
              "      <td>1336</td>\n",
              "      <td>1670</td>\n",
              "      <td>888</td>\n",
              "      <td>477</td>\n",
              "      <td>292</td>\n",
              "      <td>44</td>\n",
              "      <td>736</td>\n",
              "      <td>9</td>\n",
              "      <td>181</td>\n",
              "      <td>3</td>\n",
              "      <td>4</td>\n",
              "      <td>41</td>\n",
              "      <td>203</td>\n",
              "      <td>18</td>\n",
              "      <td>19</td>\n",
              "      <td>123</td>\n",
              "      <td>2</td>\n",
              "      <td>135</td>\n",
              "      <td>1671</td>\n",
              "      <td>117</td>\n",
              "      <td>1544</td>\n",
              "      <td>61</td>\n",
              "      <td>1</td>\n",
              "      <td>162</td>\n",
              "      <td>20</td>\n",
              "      <td>139</td>\n",
              "      <td>9</td>\n",
              "      <td>423</td>\n",
              "      <td>1540</td>\n",
              "      <td>113</td>\n",
              "      <td>477</td>\n",
              "      <td>9</td>\n",
              "      <td>118</td>\n",
              "      <td>39</td>\n",
              "      <td>526</td>\n",
              "      <td>28</td>\n",
              "      <td>27</td>\n",
              "      <td>3</td>\n",
              "      <td>4</td>\n",
              "      <td>41</td>\n",
              "      <td>203</td>\n",
              "      <td>31</td>\n",
              "      <td>55</td>\n",
              "      <td>2</td>\n",
              "      <td>29</td>\n",
              "      <td>263</td>\n",
              "      <td>3621</td>\n",
              "      <td>249</td>\n",
              "      <td>250</td>\n",
              "      <td>859</td>\n",
              "      <td>18</td>\n",
              "      <td>19</td>\n",
              "      <td>718</td>\n",
              "    </tr>\n",
              "    <tr>\n",
              "      <th>4</th>\n",
              "      <td>61</td>\n",
              "      <td>1</td>\n",
              "      <td>79</td>\n",
              "      <td>89</td>\n",
              "      <td>84</td>\n",
              "      <td>9</td>\n",
              "      <td>21</td>\n",
              "      <td>73</td>\n",
              "      <td>13</td>\n",
              "      <td>61</td>\n",
              "      <td>1</td>\n",
              "      <td>79</td>\n",
              "      <td>89</td>\n",
              "      <td>84</td>\n",
              "      <td>9</td>\n",
              "      <td>43</td>\n",
              "      <td>575</td>\n",
              "      <td>57</td>\n",
              "      <td>63</td>\n",
              "      <td>838</td>\n",
              "      <td>18</td>\n",
              "      <td>19</td>\n",
              "      <td>2</td>\n",
              "      <td>780</td>\n",
              "      <td>315</td>\n",
              "      <td>147</td>\n",
              "      <td>92</td>\n",
              "      <td>28</td>\n",
              "      <td>61</td>\n",
              "      <td>1</td>\n",
              "      <td>79</td>\n",
              "      <td>1546</td>\n",
              "      <td>22</td>\n",
              "      <td>9</td>\n",
              "      <td>43</td>\n",
              "      <td>575</td>\n",
              "      <td>57</td>\n",
              "      <td>63</td>\n",
              "      <td>858</td>\n",
              "      <td>55</td>\n",
              "      <td>2</td>\n",
              "      <td>153</td>\n",
              "      <td>171</td>\n",
              "      <td>1673</td>\n",
              "      <td>29</td>\n",
              "      <td>263</td>\n",
              "      <td>96</td>\n",
              "      <td>2759</td>\n",
              "      <td>18</td>\n",
              "      <td>19</td>\n",
              "      <td>96</td>\n",
              "      <td>103</td>\n",
              "      <td>130</td>\n",
              "      <td>2</td>\n",
              "      <td>3</td>\n",
              "      <td>4</td>\n",
              "      <td>9</td>\n",
              "      <td>18</td>\n",
              "      <td>19</td>\n",
              "      <td>96</td>\n",
              "    </tr>\n",
              "    <tr>\n",
              "      <th>...</th>\n",
              "      <td>...</td>\n",
              "      <td>...</td>\n",
              "      <td>...</td>\n",
              "      <td>...</td>\n",
              "      <td>...</td>\n",
              "      <td>...</td>\n",
              "      <td>...</td>\n",
              "      <td>...</td>\n",
              "      <td>...</td>\n",
              "      <td>...</td>\n",
              "      <td>...</td>\n",
              "      <td>...</td>\n",
              "      <td>...</td>\n",
              "      <td>...</td>\n",
              "      <td>...</td>\n",
              "      <td>...</td>\n",
              "      <td>...</td>\n",
              "      <td>...</td>\n",
              "      <td>...</td>\n",
              "      <td>...</td>\n",
              "      <td>...</td>\n",
              "      <td>...</td>\n",
              "      <td>...</td>\n",
              "      <td>...</td>\n",
              "      <td>...</td>\n",
              "      <td>...</td>\n",
              "      <td>...</td>\n",
              "      <td>...</td>\n",
              "      <td>...</td>\n",
              "      <td>...</td>\n",
              "      <td>...</td>\n",
              "      <td>...</td>\n",
              "      <td>...</td>\n",
              "      <td>...</td>\n",
              "      <td>...</td>\n",
              "      <td>...</td>\n",
              "      <td>...</td>\n",
              "      <td>...</td>\n",
              "      <td>...</td>\n",
              "      <td>...</td>\n",
              "      <td>...</td>\n",
              "      <td>...</td>\n",
              "      <td>...</td>\n",
              "      <td>...</td>\n",
              "      <td>...</td>\n",
              "      <td>...</td>\n",
              "      <td>...</td>\n",
              "      <td>...</td>\n",
              "      <td>...</td>\n",
              "      <td>...</td>\n",
              "      <td>...</td>\n",
              "      <td>...</td>\n",
              "      <td>...</td>\n",
              "      <td>...</td>\n",
              "      <td>...</td>\n",
              "      <td>...</td>\n",
              "      <td>...</td>\n",
              "      <td>...</td>\n",
              "      <td>...</td>\n",
              "      <td>...</td>\n",
              "    </tr>\n",
              "    <tr>\n",
              "      <th>2653</th>\n",
              "      <td>2122</td>\n",
              "      <td>3</td>\n",
              "      <td>4</td>\n",
              "      <td>294</td>\n",
              "      <td>1167</td>\n",
              "      <td>900</td>\n",
              "      <td>1529</td>\n",
              "      <td>128</td>\n",
              "      <td>1431</td>\n",
              "      <td>1</td>\n",
              "      <td>1654</td>\n",
              "      <td>3563</td>\n",
              "      <td>1167</td>\n",
              "      <td>211</td>\n",
              "      <td>88</td>\n",
              "      <td>2643</td>\n",
              "      <td>1</td>\n",
              "      <td>1686</td>\n",
              "      <td>3554</td>\n",
              "      <td>1155</td>\n",
              "      <td>18</td>\n",
              "      <td>91</td>\n",
              "      <td>64</td>\n",
              "      <td>1529</td>\n",
              "      <td>424</td>\n",
              "      <td>58</td>\n",
              "      <td>13</td>\n",
              "      <td>327</td>\n",
              "      <td>215</td>\n",
              "      <td>1031</td>\n",
              "      <td>1</td>\n",
              "      <td>1832</td>\n",
              "      <td>38</td>\n",
              "      <td>3517</td>\n",
              "      <td>73</td>\n",
              "      <td>2072</td>\n",
              "      <td>1</td>\n",
              "      <td>608</td>\n",
              "      <td>1115</td>\n",
              "      <td>156</td>\n",
              "      <td>187</td>\n",
              "      <td>1197</td>\n",
              "      <td>780</td>\n",
              "      <td>1050</td>\n",
              "      <td>1</td>\n",
              "      <td>50</td>\n",
              "      <td>1</td>\n",
              "      <td>42</td>\n",
              "      <td>223</td>\n",
              "      <td>38</td>\n",
              "      <td>7</td>\n",
              "      <td>700</td>\n",
              "      <td>9</td>\n",
              "      <td>141</td>\n",
              "      <td>531</td>\n",
              "      <td>1</td>\n",
              "      <td>1787</td>\n",
              "      <td>587</td>\n",
              "      <td>515</td>\n",
              "      <td>1660</td>\n",
              "    </tr>\n",
              "    <tr>\n",
              "      <th>2654</th>\n",
              "      <td>884</td>\n",
              "      <td>73</td>\n",
              "      <td>1880</td>\n",
              "      <td>239</td>\n",
              "      <td>2052</td>\n",
              "      <td>845</td>\n",
              "      <td>449</td>\n",
              "      <td>1</td>\n",
              "      <td>8</td>\n",
              "      <td>18</td>\n",
              "      <td>2</td>\n",
              "      <td>797</td>\n",
              "      <td>89</td>\n",
              "      <td>59</td>\n",
              "      <td>30</td>\n",
              "      <td>240</td>\n",
              "      <td>1205</td>\n",
              "      <td>15</td>\n",
              "      <td>1</td>\n",
              "      <td>460</td>\n",
              "      <td>315</td>\n",
              "      <td>147</td>\n",
              "      <td>64</td>\n",
              "      <td>138</td>\n",
              "      <td>569</td>\n",
              "      <td>14</td>\n",
              "      <td>361</td>\n",
              "      <td>1042</td>\n",
              "      <td>187</td>\n",
              "      <td>746</td>\n",
              "      <td>30</td>\n",
              "      <td>45</td>\n",
              "      <td>136</td>\n",
              "      <td>488</td>\n",
              "      <td>67</td>\n",
              "      <td>1</td>\n",
              "      <td>54</td>\n",
              "      <td>88</td>\n",
              "      <td>212</td>\n",
              "      <td>1</td>\n",
              "      <td>42</td>\n",
              "      <td>223</td>\n",
              "      <td>38</td>\n",
              "      <td>7</td>\n",
              "      <td>700</td>\n",
              "      <td>295</td>\n",
              "      <td>319</td>\n",
              "      <td>884</td>\n",
              "      <td>69</td>\n",
              "      <td>362</td>\n",
              "      <td>242</td>\n",
              "      <td>2197</td>\n",
              "      <td>963</td>\n",
              "      <td>1</td>\n",
              "      <td>648</td>\n",
              "      <td>508</td>\n",
              "      <td>3603</td>\n",
              "      <td>1145</td>\n",
              "      <td>110</td>\n",
              "      <td>2</td>\n",
              "    </tr>\n",
              "    <tr>\n",
              "      <th>2655</th>\n",
              "      <td>1</td>\n",
              "      <td>500</td>\n",
              "      <td>439</td>\n",
              "      <td>28</td>\n",
              "      <td>138</td>\n",
              "      <td>1041</td>\n",
              "      <td>593</td>\n",
              "      <td>545</td>\n",
              "      <td>1246</td>\n",
              "      <td>1</td>\n",
              "      <td>1727</td>\n",
              "      <td>833</td>\n",
              "      <td>2267</td>\n",
              "      <td>1731</td>\n",
              "      <td>941</td>\n",
              "      <td>195</td>\n",
              "      <td>68</td>\n",
              "      <td>88</td>\n",
              "      <td>299</td>\n",
              "      <td>41</td>\n",
              "      <td>633</td>\n",
              "      <td>3059</td>\n",
              "      <td>909</td>\n",
              "      <td>597</td>\n",
              "      <td>1</td>\n",
              "      <td>18</td>\n",
              "      <td>91</td>\n",
              "      <td>628</td>\n",
              "      <td>104</td>\n",
              "      <td>59</td>\n",
              "      <td>3</td>\n",
              "      <td>4</td>\n",
              "      <td>294</td>\n",
              "      <td>19</td>\n",
              "      <td>1193</td>\n",
              "      <td>351</td>\n",
              "      <td>1977</td>\n",
              "      <td>1260</td>\n",
              "      <td>444</td>\n",
              "      <td>423</td>\n",
              "      <td>2693</td>\n",
              "      <td>1</td>\n",
              "      <td>2123</td>\n",
              "      <td>2022</td>\n",
              "      <td>1063</td>\n",
              "      <td>88</td>\n",
              "      <td>1408</td>\n",
              "      <td>1</td>\n",
              "      <td>42</td>\n",
              "      <td>223</td>\n",
              "      <td>38</td>\n",
              "      <td>7</td>\n",
              "      <td>700</td>\n",
              "      <td>95</td>\n",
              "      <td>3</td>\n",
              "      <td>4</td>\n",
              "      <td>72</td>\n",
              "      <td>1</td>\n",
              "      <td>5</td>\n",
              "      <td>797</td>\n",
              "    </tr>\n",
              "    <tr>\n",
              "      <th>2656</th>\n",
              "      <td>1</td>\n",
              "      <td>500</td>\n",
              "      <td>439</td>\n",
              "      <td>28</td>\n",
              "      <td>138</td>\n",
              "      <td>1041</td>\n",
              "      <td>9</td>\n",
              "      <td>300</td>\n",
              "      <td>11</td>\n",
              "      <td>18</td>\n",
              "      <td>91</td>\n",
              "      <td>48</td>\n",
              "      <td>10</td>\n",
              "      <td>104</td>\n",
              "      <td>196</td>\n",
              "      <td>264</td>\n",
              "      <td>3328</td>\n",
              "      <td>25</td>\n",
              "      <td>1</td>\n",
              "      <td>100</td>\n",
              "      <td>3</td>\n",
              "      <td>4</td>\n",
              "      <td>262</td>\n",
              "      <td>2453</td>\n",
              "      <td>143</td>\n",
              "      <td>543</td>\n",
              "      <td>592</td>\n",
              "      <td>1993</td>\n",
              "      <td>88</td>\n",
              "      <td>16</td>\n",
              "      <td>878</td>\n",
              "      <td>213</td>\n",
              "      <td>42</td>\n",
              "      <td>1</td>\n",
              "      <td>206</td>\n",
              "      <td>99</td>\n",
              "      <td>74</td>\n",
              "      <td>38</td>\n",
              "      <td>1007</td>\n",
              "      <td>1508</td>\n",
              "      <td>1246</td>\n",
              "      <td>676</td>\n",
              "      <td>151</td>\n",
              "      <td>55</td>\n",
              "      <td>58</td>\n",
              "      <td>13</td>\n",
              "      <td>1</td>\n",
              "      <td>180</td>\n",
              "      <td>335</td>\n",
              "      <td>138</td>\n",
              "      <td>822</td>\n",
              "      <td>310</td>\n",
              "      <td>9</td>\n",
              "      <td>300</td>\n",
              "      <td>545</td>\n",
              "      <td>11</td>\n",
              "      <td>1</td>\n",
              "      <td>79</td>\n",
              "      <td>310</td>\n",
              "      <td>60</td>\n",
              "    </tr>\n",
              "    <tr>\n",
              "      <th>2657</th>\n",
              "      <td>158</td>\n",
              "      <td>321</td>\n",
              "      <td>68</td>\n",
              "      <td>315</td>\n",
              "      <td>1051</td>\n",
              "      <td>380</td>\n",
              "      <td>2970</td>\n",
              "      <td>1</td>\n",
              "      <td>86</td>\n",
              "      <td>18</td>\n",
              "      <td>91</td>\n",
              "      <td>35</td>\n",
              "      <td>1414</td>\n",
              "      <td>49</td>\n",
              "      <td>16</td>\n",
              "      <td>3</td>\n",
              "      <td>4</td>\n",
              "      <td>58</td>\n",
              "      <td>69</td>\n",
              "      <td>1</td>\n",
              "      <td>981</td>\n",
              "      <td>439</td>\n",
              "      <td>692</td>\n",
              "      <td>332</td>\n",
              "      <td>701</td>\n",
              "      <td>598</td>\n",
              "      <td>11</td>\n",
              "      <td>3481</td>\n",
              "      <td>3482</td>\n",
              "      <td>754</td>\n",
              "      <td>1</td>\n",
              "      <td>7</td>\n",
              "      <td>309</td>\n",
              "      <td>1658</td>\n",
              "      <td>541</td>\n",
              "      <td>1</td>\n",
              "      <td>42</td>\n",
              "      <td>223</td>\n",
              "      <td>38</td>\n",
              "      <td>7</td>\n",
              "      <td>24</td>\n",
              "      <td>560</td>\n",
              "      <td>151</td>\n",
              "      <td>9</td>\n",
              "      <td>1</td>\n",
              "      <td>331</td>\n",
              "      <td>8</td>\n",
              "      <td>343</td>\n",
              "      <td>415</td>\n",
              "      <td>534</td>\n",
              "      <td>3154</td>\n",
              "      <td>332</td>\n",
              "      <td>199</td>\n",
              "      <td>315</td>\n",
              "      <td>1051</td>\n",
              "      <td>57</td>\n",
              "      <td>1955</td>\n",
              "      <td>77</td>\n",
              "      <td>3320</td>\n",
              "      <td>3039</td>\n",
              "    </tr>\n",
              "  </tbody>\n",
              "</table>\n",
              "<p>2658 rows × 60 columns</p>\n",
              "</div>"
            ],
            "text/plain": [
              "        0    1     2     3     4     5   ...    54   55    56    57    58    59\n",
              "0       55    2    50    33   937   377  ...     2   29   263    71    51  1666\n",
              "1       61    1    33   495    14   291  ...    74   39  1806  2754    18    19\n",
              "2       61    1   683   300    35   423  ...   297   55     2    29   263    33\n",
              "3      299  224  1427  1669   355    14  ...   249  250   859    18    19   718\n",
              "4       61    1    79    89    84     9  ...     3    4     9    18    19    96\n",
              "...    ...  ...   ...   ...   ...   ...  ...   ...  ...   ...   ...   ...   ...\n",
              "2653  2122    3     4   294  1167   900  ...   531    1  1787   587   515  1660\n",
              "2654   884   73  1880   239  2052   845  ...   648  508  3603  1145   110     2\n",
              "2655     1  500   439    28   138  1041  ...     3    4    72     1     5   797\n",
              "2656     1  500   439    28   138  1041  ...   545   11     1    79   310    60\n",
              "2657   158  321    68   315  1051   380  ...  1051   57  1955    77  3320  3039\n",
              "\n",
              "[2658 rows x 60 columns]"
            ]
          },
          "metadata": {
            "tags": []
          },
          "execution_count": 23
        }
      ]
    },
    {
      "cell_type": "code",
      "metadata": {
        "id": "9SSsFDU8ssR-"
      },
      "source": [
        "csv.to_excel('W2V_oil.xlsx')"
      ],
      "execution_count": null,
      "outputs": []
    },
    {
      "cell_type": "code",
      "metadata": {
        "colab": {
          "base_uri": "https://localhost:8080/"
        },
        "id": "F0f4iRZXCwGN",
        "outputId": "4518f293-4969-40d5-d76a-b631d303ad2f"
      },
      "source": [
        "smote = SMOTE(random_state=100)\n",
        "X, y = smote.fit_sample(train_pad, df_n['target'])\n",
        "df_n['target'].value_counts()\n"
      ],
      "execution_count": null,
      "outputs": [
        {
          "output_type": "stream",
          "text": [
            "/usr/local/lib/python3.7/dist-packages/sklearn/utils/deprecation.py:87: FutureWarning: Function safe_indexing is deprecated; safe_indexing is deprecated in version 0.22 and will be removed in version 0.24.\n",
            "  warnings.warn(msg, category=FutureWarning)\n"
          ],
          "name": "stderr"
        },
        {
          "output_type": "execute_result",
          "data": {
            "text/plain": [
              "0.0    1362\n",
              "1.0    1296\n",
              "Name: target, dtype: int64"
            ]
          },
          "metadata": {
            "tags": []
          },
          "execution_count": 25
        }
      ]
    },
    {
      "cell_type": "code",
      "metadata": {
        "colab": {
          "base_uri": "https://localhost:8080/"
        },
        "id": "HzH1UHmvEroq",
        "outputId": "7c896af8-0d7f-4a14-b14d-35213ce20ebf"
      },
      "source": [
        "y.shape"
      ],
      "execution_count": null,
      "outputs": [
        {
          "output_type": "execute_result",
          "data": {
            "text/plain": [
              "(2724,)"
            ]
          },
          "metadata": {
            "tags": []
          },
          "execution_count": 26
        }
      ]
    },
    {
      "cell_type": "code",
      "metadata": {
        "id": "qx1DTTS58F6q"
      },
      "source": [
        "X_train, X_test, y_train, y_test = train_test_split(X, y, test_size=0.33)\n"
      ],
      "execution_count": null,
      "outputs": []
    },
    {
      "cell_type": "markdown",
      "metadata": {
        "id": "053GrQGtzNJw"
      },
      "source": [
        "# **CNN**"
      ]
    },
    {
      "cell_type": "code",
      "metadata": {
        "colab": {
          "base_uri": "https://localhost:8080/"
        },
        "id": "FAY-eDW4Isdj",
        "outputId": "5274cbeb-c5fe-4f42-9e8d-8e44858169d2"
      },
      "source": [
        "embedding_dim = 30\n",
        "\n",
        "model = Sequential()\n",
        "model.add(layers.Embedding(input_dim=vocab_size,\n",
        "                           output_dim=embedding_dim,\n",
        "                           input_length=maxlen))\n",
        "model.add(Conv1D(30,5))\n",
        "model.add(MaxPooling1D())\n",
        "model.add(Softmax())\n",
        "model.add(layers.Flatten())\n",
        "model.add(layers.Dense(128,activation='relu'))\n",
        "model.add(layers.Dense(10, activation='relu'))\n",
        "model.add(layers.Dense(1, activation='sigmoid'))\n",
        "model.compile(optimizer='adam',\n",
        "              loss='binary_crossentropy',\n",
        "              metrics=['accuracy'])\n",
        "model.summary()"
      ],
      "execution_count": null,
      "outputs": [
        {
          "output_type": "stream",
          "text": [
            "Model: \"sequential_9\"\n",
            "_________________________________________________________________\n",
            "Layer (type)                 Output Shape              Param #   \n",
            "=================================================================\n",
            "embedding_9 (Embedding)      (None, 60, 30)            191670    \n",
            "_________________________________________________________________\n",
            "conv1d_8 (Conv1D)            (None, 56, 30)            4530      \n",
            "_________________________________________________________________\n",
            "max_pooling1d_8 (MaxPooling1 (None, 28, 30)            0         \n",
            "_________________________________________________________________\n",
            "softmax_8 (Softmax)          (None, 28, 30)            0         \n",
            "_________________________________________________________________\n",
            "flatten_5 (Flatten)          (None, 840)               0         \n",
            "_________________________________________________________________\n",
            "dense_15 (Dense)             (None, 128)               107648    \n",
            "_________________________________________________________________\n",
            "dense_16 (Dense)             (None, 10)                1290      \n",
            "_________________________________________________________________\n",
            "dense_17 (Dense)             (None, 1)                 11        \n",
            "=================================================================\n",
            "Total params: 305,149\n",
            "Trainable params: 305,149\n",
            "Non-trainable params: 0\n",
            "_________________________________________________________________\n"
          ],
          "name": "stdout"
        }
      ]
    },
    {
      "cell_type": "code",
      "metadata": {
        "id": "n3V8-RYEMEhB"
      },
      "source": [
        "model.compile(loss='binary_crossentropy', optimizer='adam', metrics=['accuracy'])"
      ],
      "execution_count": null,
      "outputs": []
    },
    {
      "cell_type": "code",
      "metadata": {
        "colab": {
          "base_uri": "https://localhost:8080/"
        },
        "id": "BEV3_vu6NNFw",
        "outputId": "ce662b40-0270-4453-e665-22926dfb3156"
      },
      "source": [
        "history=model.fit([X_train], y_train,epochs=20,batch_size=15\n",
        "               ,validation_data=([X_test ],y_test))"
      ],
      "execution_count": null,
      "outputs": [
        {
          "output_type": "stream",
          "text": [
            "Epoch 1/20\n",
            "122/122 [==============================] - 2s 8ms/step - loss: 0.6936 - accuracy: 0.4751 - val_loss: 0.6932 - val_accuracy: 0.4983\n",
            "Epoch 2/20\n",
            "122/122 [==============================] - 1s 7ms/step - loss: 0.6932 - accuracy: 0.4926 - val_loss: 0.6931 - val_accuracy: 0.5017\n",
            "Epoch 3/20\n",
            "122/122 [==============================] - 1s 7ms/step - loss: 0.6932 - accuracy: 0.4860 - val_loss: 0.6931 - val_accuracy: 0.5017\n",
            "Epoch 4/20\n",
            "122/122 [==============================] - 1s 7ms/step - loss: 0.6932 - accuracy: 0.4932 - val_loss: 0.6932 - val_accuracy: 0.4983\n",
            "Epoch 5/20\n",
            "122/122 [==============================] - 1s 7ms/step - loss: 0.6932 - accuracy: 0.5008 - val_loss: 0.6932 - val_accuracy: 0.4983\n",
            "Epoch 6/20\n",
            "122/122 [==============================] - 1s 7ms/step - loss: 0.6933 - accuracy: 0.4964 - val_loss: 0.6931 - val_accuracy: 0.5017\n",
            "Epoch 7/20\n",
            "122/122 [==============================] - 1s 7ms/step - loss: 0.6932 - accuracy: 0.4926 - val_loss: 0.6931 - val_accuracy: 0.4983\n",
            "Epoch 8/20\n",
            "122/122 [==============================] - 1s 7ms/step - loss: 0.6932 - accuracy: 0.4838 - val_loss: 0.6931 - val_accuracy: 0.4983\n",
            "Epoch 9/20\n",
            "122/122 [==============================] - 1s 7ms/step - loss: 0.6932 - accuracy: 0.4773 - val_loss: 0.6931 - val_accuracy: 0.4983\n",
            "Epoch 10/20\n",
            "122/122 [==============================] - 1s 7ms/step - loss: 0.6932 - accuracy: 0.4932 - val_loss: 0.6932 - val_accuracy: 0.4983\n",
            "Epoch 11/20\n",
            "122/122 [==============================] - 1s 7ms/step - loss: 0.6932 - accuracy: 0.4882 - val_loss: 0.6931 - val_accuracy: 0.5017\n",
            "Epoch 12/20\n",
            "122/122 [==============================] - 1s 7ms/step - loss: 0.6932 - accuracy: 0.4871 - val_loss: 0.6932 - val_accuracy: 0.4983\n",
            "Epoch 13/20\n",
            "122/122 [==============================] - 1s 7ms/step - loss: 0.6932 - accuracy: 0.4915 - val_loss: 0.6932 - val_accuracy: 0.4983\n",
            "Epoch 14/20\n",
            "122/122 [==============================] - 1s 7ms/step - loss: 0.6932 - accuracy: 0.5008 - val_loss: 0.6932 - val_accuracy: 0.4983\n",
            "Epoch 15/20\n",
            "122/122 [==============================] - 1s 7ms/step - loss: 0.6932 - accuracy: 0.5008 - val_loss: 0.6932 - val_accuracy: 0.4983\n",
            "Epoch 16/20\n",
            "122/122 [==============================] - 1s 7ms/step - loss: 0.6932 - accuracy: 0.4811 - val_loss: 0.6932 - val_accuracy: 0.4983\n",
            "Epoch 17/20\n",
            "122/122 [==============================] - 1s 7ms/step - loss: 0.6932 - accuracy: 0.4833 - val_loss: 0.6932 - val_accuracy: 0.4983\n",
            "Epoch 18/20\n",
            "122/122 [==============================] - 1s 7ms/step - loss: 0.6932 - accuracy: 0.5008 - val_loss: 0.6932 - val_accuracy: 0.4983\n",
            "Epoch 19/20\n",
            "122/122 [==============================] - 1s 7ms/step - loss: 0.6932 - accuracy: 0.5008 - val_loss: 0.6932 - val_accuracy: 0.4983\n",
            "Epoch 20/20\n",
            "122/122 [==============================] - 1s 7ms/step - loss: 0.6932 - accuracy: 0.4844 - val_loss: 0.6932 - val_accuracy: 0.4983\n"
          ],
          "name": "stdout"
        }
      ]
    },
    {
      "cell_type": "code",
      "metadata": {
        "id": "IfQS-D1V2FmW"
      },
      "source": [
        "import matplotlib.pyplot as plt\n",
        "plt.style.use('ggplot')\n",
        "\n",
        "def plot_history(history):\n",
        "    acc = history.history['accuracy']\n",
        "    val_acc = history.history['val_accuracy']\n",
        "    loss = history.history['loss']\n",
        "    val_loss = history.history['val_loss']\n",
        "    x = range(1, len(acc) + 1)\n",
        "\n",
        "    plt.figure(figsize=(12, 5))\n",
        "    plt.subplot(1, 2, 1)\n",
        "    plt.plot(x, acc, 'b', label='Training acc')\n",
        "    plt.plot(x, val_acc, 'r', label='Validation acc')\n",
        "    plt.title('Training and validation accuracy')\n",
        "    plt.legend()\n",
        "    plt.subplot(1, 2, 2)\n",
        "    plt.plot(x, loss, 'b', label='Training loss')\n",
        "    plt.plot(x, val_loss, 'r', label='Validation loss')\n",
        "    plt.title('Training and validation loss')\n",
        "    plt.legend()"
      ],
      "execution_count": null,
      "outputs": []
    },
    {
      "cell_type": "code",
      "metadata": {
        "colab": {
          "base_uri": "https://localhost:8080/",
          "height": 372
        },
        "id": "7r8YnMJGSJ36",
        "outputId": "ea2f3df1-0fe5-414c-8995-14cbd8f54e45"
      },
      "source": [
        "history = model.fit(X_train, y_train,\n",
        "                    epochs=20,\n",
        "                    verbose=False,\n",
        "                    validation_data=(X_test, y_test),\n",
        "                    batch_size=15)\n",
        "loss, accuracy = model.evaluate(X_train, y_train, verbose=False)\n",
        "print(\"Training Accuracy: {:.4f}\".format(accuracy))\n",
        "loss1, accuracy1 = model.evaluate(X_test, y_test, verbose=False)\n",
        "print(\"Testing Accuracy:  {:.4f}\".format(accuracy1))\n",
        "plot_history(history)"
      ],
      "execution_count": null,
      "outputs": [
        {
          "output_type": "stream",
          "text": [
            "Training Accuracy: 1.0000\n",
            "Testing Accuracy:  0.6218\n"
          ],
          "name": "stdout"
        },
        {
          "output_type": "display_data",
          "data": {
            "image/png": "[encoded data removed]",
            "text/plain": [
              "<Figure size 864x360 with 2 Axes>"
            ]
          },
          "metadata": {
            "tags": []
          }
        }
      ]
    },
    {
      "cell_type": "code",
      "metadata": {
        "colab": {
          "base_uri": "https://localhost:8080/"
        },
        "id": "aI8AEq_ryIcZ",
        "outputId": "50716904-de43-409a-b784-6ab296714ff7"
      },
      "source": [
        "y_pred = model.predict(X_test, batch_size=64, verbose=1)\n",
        "y_pred_bool = np.argmax(y_pred, axis=1)\n",
        "\n",
        "print(classification_report(y_test, y_pred_bool))"
      ],
      "execution_count": null,
      "outputs": [
        {
          "output_type": "stream",
          "text": [
            "15/15 [==============================] - 0s 2ms/step\n",
            "              precision    recall  f1-score   support\n",
            "\n",
            "         0.0       0.50      1.00      0.67       451\n",
            "         1.0       0.00      0.00      0.00       448\n",
            "\n",
            "    accuracy                           0.50       899\n",
            "   macro avg       0.25      0.50      0.33       899\n",
            "weighted avg       0.25      0.50      0.34       899\n",
            "\n"
          ],
          "name": "stdout"
        },
        {
          "output_type": "stream",
          "text": [
            "/usr/local/lib/python3.7/dist-packages/sklearn/metrics/_classification.py:1272: UndefinedMetricWarning: Precision and F-score are ill-defined and being set to 0.0 in labels with no predicted samples. Use `zero_division` parameter to control this behavior.\n",
            "  _warn_prf(average, modifier, msg_start, len(result))\n"
          ],
          "name": "stderr"
        }
      ]
    },
    {
      "cell_type": "code",
      "metadata": {
        "colab": {
          "base_uri": "https://localhost:8080/"
        },
        "id": "MYuIKy6SGs6F",
        "outputId": "80e28326-b214-4ea5-f393-20094114e199"
      },
      "source": [
        "mean_squared_error(y_test, y_pred_bool)"
      ],
      "execution_count": null,
      "outputs": [
        {
          "output_type": "execute_result",
          "data": {
            "text/plain": [
              "0.4983314794215795"
            ]
          },
          "metadata": {
            "tags": []
          },
          "execution_count": 55
        }
      ]
    },
    {
      "cell_type": "code",
      "metadata": {
        "colab": {
          "base_uri": "https://localhost:8080/"
        },
        "id": "63sLq7v_HmzO",
        "outputId": "745180cd-910c-4eaf-9ddb-d3fbcf78027f"
      },
      "source": [
        "rmse = mean_squared_error(y_test, y_pred_bool, squared=False)\n",
        "rmse"
      ],
      "execution_count": null,
      "outputs": [
        {
          "output_type": "execute_result",
          "data": {
            "text/plain": [
              "0.7059259730464515"
            ]
          },
          "metadata": {
            "tags": []
          },
          "execution_count": 56
        }
      ]
    },
    {
      "cell_type": "code",
      "metadata": {
        "colab": {
          "base_uri": "https://localhost:8080/",
          "height": 366
        },
        "id": "37pwRO-0rsZ4",
        "outputId": "f1a9d04d-abb9-437a-8d1c-8306be9fd743"
      },
      "source": [
        "# for index , row in df_n.iterrows():\n",
        "#   text.(row['Head_line'])\n",
        "text = ' '.join(df_n['Head_line'])\n",
        "wc = WordCloud(background_color=\"white\", repeat=True)\n",
        "wc.generate(text)\n",
        "plt.figure(figsize = (12,12))\n",
        "\n",
        "plt.axis(\"off\")\n",
        "plt.imshow(wc, interpolation=\"bilinear\")\n",
        "plt.show()\n"
      ],
      "execution_count": null,
      "outputs": [
        {
          "output_type": "display_data",
          "data": {
            "image/png": "[encoded data removed]",
            "text/plain": [
              "<Figure size 864x864 with 1 Axes>"
            ]
          },
          "metadata": {
            "tags": [],
            "needs_background": "light"
          }
        }
      ]
    },
    {
      "cell_type": "markdown",
      "metadata": {
        "id": "S583rnEnz77x"
      },
      "source": [
        "# LSTM"
      ]
    },
    {
      "cell_type": "code",
      "metadata": {
        "colab": {
          "base_uri": "https://localhost:8080/"
        },
        "id": "WLCS7IEvBUh3",
        "outputId": "9057798c-c468-4b61-89ef-e3cd635ea6d0"
      },
      "source": [
        "embedding_dim = 50\n",
        "\n",
        "model = Sequential()\n",
        "model.add(layers.Embedding(input_dim=vocab_size,\n",
        "                           output_dim=embedding_dim,\n",
        "                           input_length=maxlen))\n",
        "model.add(LSTM(128))\n",
        "model.add(layers.Flatten())\n",
        "model.add(layers.Dense(128,activation='relu'))\n",
        "model.add(layers.Dense(10, activation='relu'))\n",
        "model.add(layers.Dense(1, activation='sigmoid'))\n",
        "model.compile(optimizer='adam',\n",
        "              loss='binary_crossentropy',\n",
        "              metrics=['accuracy'])\n",
        "model.summary()"
      ],
      "execution_count": null,
      "outputs": [
        {
          "output_type": "stream",
          "text": [
            "Model: \"sequential_12\"\n",
            "_________________________________________________________________\n",
            "Layer (type)                 Output Shape              Param #   \n",
            "=================================================================\n",
            "embedding_12 (Embedding)     (None, 60, 50)            319450    \n",
            "_________________________________________________________________\n",
            "lstm_2 (LSTM)                (None, 128)               91648     \n",
            "_________________________________________________________________\n",
            "flatten_8 (Flatten)          (None, 128)               0         \n",
            "_________________________________________________________________\n",
            "dense_24 (Dense)             (None, 128)               16512     \n",
            "_________________________________________________________________\n",
            "dense_25 (Dense)             (None, 10)                1290      \n",
            "_________________________________________________________________\n",
            "dense_26 (Dense)             (None, 1)                 11        \n",
            "=================================================================\n",
            "Total params: 428,911\n",
            "Trainable params: 428,911\n",
            "Non-trainable params: 0\n",
            "_________________________________________________________________\n"
          ],
          "name": "stdout"
        }
      ]
    },
    {
      "cell_type": "code",
      "metadata": {
        "id": "MjHKIyxwBj1W"
      },
      "source": [
        "model.compile(loss='binary_crossentropy', optimizer='adam', metrics=['accuracy'])"
      ],
      "execution_count": null,
      "outputs": []
    },
    {
      "cell_type": "code",
      "metadata": {
        "colab": {
          "base_uri": "https://localhost:8080/"
        },
        "id": "2RArFv8dBklq",
        "outputId": "63a4d6a8-a6b6-45fc-b398-31d8b630280c"
      },
      "source": [
        "model.fit([X_train], y_train,epochs=20,batch_size=15\n",
        "               ,validation_data=([X_test ],y_test))"
      ],
      "execution_count": null,
      "outputs": [
        {
          "output_type": "stream",
          "text": [
            "Epoch 1/20\n",
            "122/122 [==============================] - 4s 16ms/step - loss: 0.6933 - accuracy: 0.4871 - val_loss: 0.6931 - val_accuracy: 0.4983\n",
            "Epoch 2/20\n",
            "122/122 [==============================] - 1s 12ms/step - loss: 0.6938 - accuracy: 0.4915 - val_loss: 0.6931 - val_accuracy: 0.5017\n",
            "Epoch 3/20\n",
            "122/122 [==============================] - 1s 12ms/step - loss: 0.6928 - accuracy: 0.5063 - val_loss: 0.6925 - val_accuracy: 0.5006\n",
            "Epoch 4/20\n",
            "122/122 [==============================] - 2s 12ms/step - loss: 0.6770 - accuracy: 0.5430 - val_loss: 0.7019 - val_accuracy: 0.4994\n",
            "Epoch 5/20\n",
            "122/122 [==============================] - 1s 12ms/step - loss: 0.6215 - accuracy: 0.5885 - val_loss: 0.7640 - val_accuracy: 0.5128\n",
            "Epoch 6/20\n",
            "122/122 [==============================] - 2s 13ms/step - loss: 0.5871 - accuracy: 0.6033 - val_loss: 0.8100 - val_accuracy: 0.4994\n",
            "Epoch 7/20\n",
            "122/122 [==============================] - 2s 13ms/step - loss: 0.5282 - accuracy: 0.6405 - val_loss: 0.9407 - val_accuracy: 0.5161\n",
            "Epoch 8/20\n",
            "122/122 [==============================] - 2s 13ms/step - loss: 0.5022 - accuracy: 0.6619 - val_loss: 0.9931 - val_accuracy: 0.5106\n",
            "Epoch 9/20\n",
            "122/122 [==============================] - 2s 13ms/step - loss: 0.4910 - accuracy: 0.6701 - val_loss: 1.1034 - val_accuracy: 0.5184\n",
            "Epoch 10/20\n",
            "122/122 [==============================] - 1s 12ms/step - loss: 0.4594 - accuracy: 0.7123 - val_loss: 1.0510 - val_accuracy: 0.5117\n",
            "Epoch 11/20\n",
            "122/122 [==============================] - 1s 12ms/step - loss: 0.4357 - accuracy: 0.7447 - val_loss: 1.0552 - val_accuracy: 0.5751\n",
            "Epoch 12/20\n",
            "122/122 [==============================] - 2s 13ms/step - loss: 0.3858 - accuracy: 0.8197 - val_loss: 1.0027 - val_accuracy: 0.5695\n",
            "Epoch 13/20\n",
            "122/122 [==============================] - 2s 13ms/step - loss: 0.3501 - accuracy: 0.8433 - val_loss: 1.2112 - val_accuracy: 0.5640\n",
            "Epoch 14/20\n",
            "122/122 [==============================] - 2s 13ms/step - loss: 0.3725 - accuracy: 0.8115 - val_loss: 1.1061 - val_accuracy: 0.5161\n",
            "Epoch 15/20\n",
            "122/122 [==============================] - 1s 12ms/step - loss: 0.2791 - accuracy: 0.8811 - val_loss: 1.3777 - val_accuracy: 0.6040\n",
            "Epoch 16/20\n",
            "122/122 [==============================] - 1s 12ms/step - loss: 0.2014 - accuracy: 0.9205 - val_loss: 1.4809 - val_accuracy: 0.5784\n",
            "Epoch 17/20\n",
            "122/122 [==============================] - 1s 12ms/step - loss: 0.1953 - accuracy: 0.9205 - val_loss: 1.4386 - val_accuracy: 0.5562\n",
            "Epoch 18/20\n",
            "122/122 [==============================] - 1s 12ms/step - loss: 0.1438 - accuracy: 0.9479 - val_loss: 1.3595 - val_accuracy: 0.5829\n",
            "Epoch 19/20\n",
            "122/122 [==============================] - 1s 12ms/step - loss: 0.1169 - accuracy: 0.9605 - val_loss: 1.9358 - val_accuracy: 0.5495\n",
            "Epoch 20/20\n",
            "122/122 [==============================] - 1s 11ms/step - loss: 0.1091 - accuracy: 0.9660 - val_loss: 1.6725 - val_accuracy: 0.5918\n"
          ],
          "name": "stdout"
        },
        {
          "output_type": "execute_result",
          "data": {
            "text/plain": [
              "<tensorflow.python.keras.callbacks.History at 0x7fd666683e90>"
            ]
          },
          "metadata": {
            "tags": []
          },
          "execution_count": 71
        }
      ]
    },
    {
      "cell_type": "code",
      "metadata": {
        "colab": {
          "base_uri": "https://localhost:8080/"
        },
        "id": "if2Af2ubBr3m",
        "outputId": "4d81694a-2727-4e6c-9690-1de3649441d3"
      },
      "source": [
        "y_pred_l = model.predict(X_test, batch_size=64, verbose=1)\n",
        "y_pred_LSTM = np.argmax(y_pred_l, axis=1)\n",
        "\n",
        "print(classification_report(y_test, y_pred_LSTM))"
      ],
      "execution_count": null,
      "outputs": [
        {
          "output_type": "stream",
          "text": [
            "15/15 [==============================] - 0s 3ms/step\n",
            "              precision    recall  f1-score   support\n",
            "\n",
            "         0.0       0.50      1.00      0.67       451\n",
            "         1.0       0.00      0.00      0.00       448\n",
            "\n",
            "    accuracy                           0.50       899\n",
            "   macro avg       0.25      0.50      0.33       899\n",
            "weighted avg       0.25      0.50      0.34       899\n",
            "\n"
          ],
          "name": "stdout"
        },
        {
          "output_type": "stream",
          "text": [
            "/usr/local/lib/python3.7/dist-packages/sklearn/metrics/_classification.py:1272: UndefinedMetricWarning: Precision and F-score are ill-defined and being set to 0.0 in labels with no predicted samples. Use `zero_division` parameter to control this behavior.\n",
            "  _warn_prf(average, modifier, msg_start, len(result))\n"
          ],
          "name": "stderr"
        }
      ]
    },
    {
      "cell_type": "code",
      "metadata": {
        "colab": {
          "base_uri": "https://localhost:8080/"
        },
        "id": "O3PhyZCAKZeu",
        "outputId": "7af8ad58-271b-465c-84cf-bdc4600d73fc"
      },
      "source": [
        "mean_squared_error(y_test, y_pred_LSTM)"
      ],
      "execution_count": null,
      "outputs": [
        {
          "output_type": "execute_result",
          "data": {
            "text/plain": [
              "0.4983314794215795"
            ]
          },
          "metadata": {
            "tags": []
          },
          "execution_count": 73
        }
      ]
    },
    {
      "cell_type": "code",
      "metadata": {
        "colab": {
          "base_uri": "https://localhost:8080/"
        },
        "id": "Gs9AsH6P0WD6",
        "outputId": "c48950e7-4838-4e4c-892a-8bdbda94d401"
      },
      "source": [
        "rmse = mean_squared_error(y_test, y_pred_LSTM, squared=False)\n",
        "rmse"
      ],
      "execution_count": null,
      "outputs": [
        {
          "output_type": "execute_result",
          "data": {
            "text/plain": [
              "0.7059259730464515"
            ]
          },
          "metadata": {
            "tags": []
          },
          "execution_count": 74
        }
      ]
    },
    {
      "cell_type": "markdown",
      "metadata": {
        "id": "0NuGKxbXJYvt"
      },
      "source": [
        "## GRU"
      ]
    },
    {
      "cell_type": "code",
      "metadata": {
        "colab": {
          "base_uri": "https://localhost:8080/"
        },
        "id": "IwSc8XV5JXjx",
        "outputId": "9bee5785-f81f-456b-e542-1cbd5cd40b7a"
      },
      "source": [
        "embedding_dim = 30\n",
        "\n",
        "model = Sequential()\n",
        "model.add(layers.Embedding(input_dim=vocab_size,\n",
        "                           output_dim=embedding_dim,\n",
        "                           input_length=maxlen))\n",
        "model.add(Conv1D(30,5))\n",
        "model.add(MaxPooling1D())\n",
        "model.add(Softmax())\n",
        "model.add(GRU(64))\n",
        "model.add(layers.Flatten())\n",
        "model.add(layers.Dense(128,activation='relu'))\n",
        "model.add(layers.Dense(10, activation='relu'))\n",
        "model.add(layers.Dense(1, activation='sigmoid'))\n",
        "model.compile(optimizer='adam',\n",
        "              loss='binary_crossentropy',\n",
        "              metrics=['accuracy'])\n",
        "model.summary()"
      ],
      "execution_count": null,
      "outputs": [
        {
          "output_type": "stream",
          "text": [
            "Model: \"sequential_13\"\n",
            "_________________________________________________________________\n",
            "Layer (type)                 Output Shape              Param #   \n",
            "=================================================================\n",
            "embedding_13 (Embedding)     (None, 60, 30)            191670    \n",
            "_________________________________________________________________\n",
            "conv1d_10 (Conv1D)           (None, 56, 30)            4530      \n",
            "_________________________________________________________________\n",
            "max_pooling1d_10 (MaxPooling (None, 28, 30)            0         \n",
            "_________________________________________________________________\n",
            "softmax_10 (Softmax)         (None, 28, 30)            0         \n",
            "_________________________________________________________________\n",
            "gru_3 (GRU)                  (None, 64)                18432     \n",
            "_________________________________________________________________\n",
            "flatten_9 (Flatten)          (None, 64)                0         \n",
            "_________________________________________________________________\n",
            "dense_27 (Dense)             (None, 128)               8320      \n",
            "_________________________________________________________________\n",
            "dense_28 (Dense)             (None, 10)                1290      \n",
            "_________________________________________________________________\n",
            "dense_29 (Dense)             (None, 1)                 11        \n",
            "=================================================================\n",
            "Total params: 224,253\n",
            "Trainable params: 224,253\n",
            "Non-trainable params: 0\n",
            "_________________________________________________________________\n"
          ],
          "name": "stdout"
        }
      ]
    },
    {
      "cell_type": "code",
      "metadata": {
        "colab": {
          "base_uri": "https://localhost:8080/"
        },
        "id": "Sz73VdpSJxXt",
        "outputId": "b6d34bc5-e01b-4807-e835-155a4558ce32"
      },
      "source": [
        "model.compile(loss='binary_crossentropy', optimizer='adam', metrics=['accuracy'])\n",
        "model.fit([X_train], y_train,epochs=20,batch_size=15\n",
        "               ,validation_data=([X_test ],y_test))"
      ],
      "execution_count": null,
      "outputs": [
        {
          "output_type": "stream",
          "text": [
            "Epoch 1/20\n",
            "122/122 [==============================] - 3s 12ms/step - loss: 0.6935 - accuracy: 0.4893 - val_loss: 0.6931 - val_accuracy: 0.5017\n",
            "Epoch 2/20\n",
            "122/122 [==============================] - 1s 9ms/step - loss: 0.6932 - accuracy: 0.4723 - val_loss: 0.6931 - val_accuracy: 0.5017\n",
            "Epoch 3/20\n",
            "122/122 [==============================] - 1s 8ms/step - loss: 0.6932 - accuracy: 0.4827 - val_loss: 0.6931 - val_accuracy: 0.4983\n",
            "Epoch 4/20\n",
            "122/122 [==============================] - 1s 8ms/step - loss: 0.6932 - accuracy: 0.4822 - val_loss: 0.6931 - val_accuracy: 0.5017\n",
            "Epoch 5/20\n",
            "122/122 [==============================] - 1s 8ms/step - loss: 0.6932 - accuracy: 0.4981 - val_loss: 0.6932 - val_accuracy: 0.4983\n",
            "Epoch 6/20\n",
            "122/122 [==============================] - 1s 8ms/step - loss: 0.6932 - accuracy: 0.4827 - val_loss: 0.6931 - val_accuracy: 0.5017\n",
            "Epoch 7/20\n",
            "122/122 [==============================] - 1s 8ms/step - loss: 0.6932 - accuracy: 0.4992 - val_loss: 0.6931 - val_accuracy: 0.5017\n",
            "Epoch 8/20\n",
            "122/122 [==============================] - 1s 8ms/step - loss: 0.6932 - accuracy: 0.4997 - val_loss: 0.6932 - val_accuracy: 0.4983\n",
            "Epoch 9/20\n",
            "122/122 [==============================] - 1s 9ms/step - loss: 0.6933 - accuracy: 0.4866 - val_loss: 0.6932 - val_accuracy: 0.4983\n",
            "Epoch 10/20\n",
            "122/122 [==============================] - 1s 8ms/step - loss: 0.6932 - accuracy: 0.4712 - val_loss: 0.6931 - val_accuracy: 0.4983\n",
            "Epoch 11/20\n",
            "122/122 [==============================] - 1s 8ms/step - loss: 0.6932 - accuracy: 0.4789 - val_loss: 0.6931 - val_accuracy: 0.4983\n",
            "Epoch 12/20\n",
            "122/122 [==============================] - 1s 8ms/step - loss: 0.6932 - accuracy: 0.4899 - val_loss: 0.6932 - val_accuracy: 0.4983\n",
            "Epoch 13/20\n",
            "122/122 [==============================] - 1s 8ms/step - loss: 0.6932 - accuracy: 0.4833 - val_loss: 0.6932 - val_accuracy: 0.4983\n",
            "Epoch 14/20\n",
            "122/122 [==============================] - 1s 8ms/step - loss: 0.6933 - accuracy: 0.5008 - val_loss: 0.6932 - val_accuracy: 0.4983\n",
            "Epoch 15/20\n",
            "122/122 [==============================] - 1s 8ms/step - loss: 0.6932 - accuracy: 0.4888 - val_loss: 0.6932 - val_accuracy: 0.4983\n",
            "Epoch 16/20\n",
            "122/122 [==============================] - 1s 9ms/step - loss: 0.6932 - accuracy: 0.4827 - val_loss: 0.6932 - val_accuracy: 0.4983\n",
            "Epoch 17/20\n",
            "122/122 [==============================] - 1s 8ms/step - loss: 0.6932 - accuracy: 0.4871 - val_loss: 0.6932 - val_accuracy: 0.4983\n",
            "Epoch 18/20\n",
            "122/122 [==============================] - 1s 9ms/step - loss: 0.6932 - accuracy: 0.4800 - val_loss: 0.6931 - val_accuracy: 0.4983\n",
            "Epoch 19/20\n",
            "122/122 [==============================] - 1s 9ms/step - loss: 0.6932 - accuracy: 0.5008 - val_loss: 0.6932 - val_accuracy: 0.4983\n",
            "Epoch 20/20\n",
            "122/122 [==============================] - 1s 9ms/step - loss: 0.6932 - accuracy: 0.5008 - val_loss: 0.6932 - val_accuracy: 0.4983\n"
          ],
          "name": "stdout"
        },
        {
          "output_type": "execute_result",
          "data": {
            "text/plain": [
              "<tensorflow.python.keras.callbacks.History at 0x7fd6667e5b10>"
            ]
          },
          "metadata": {
            "tags": []
          },
          "execution_count": 76
        }
      ]
    },
    {
      "cell_type": "code",
      "metadata": {
        "colab": {
          "base_uri": "https://localhost:8080/"
        },
        "id": "fMnY0MnSJv7v",
        "outputId": "19a818ae-e663-407c-e3b0-175d047957e0"
      },
      "source": [
        "y_pred_GRU = model.predict(X_test, batch_size=64, verbose=1)\n",
        "y_pred_GRU = np.argmax(y_pred_GRU, axis=1)\n",
        "\n",
        "print(classification_report(y_test, y_pred_GRU))"
      ],
      "execution_count": null,
      "outputs": [
        {
          "output_type": "stream",
          "text": [
            "15/15 [==============================] - 0s 3ms/step\n",
            "              precision    recall  f1-score   support\n",
            "\n",
            "         0.0       0.50      1.00      0.67       451\n",
            "         1.0       0.00      0.00      0.00       448\n",
            "\n",
            "    accuracy                           0.50       899\n",
            "   macro avg       0.25      0.50      0.33       899\n",
            "weighted avg       0.25      0.50      0.34       899\n",
            "\n"
          ],
          "name": "stdout"
        },
        {
          "output_type": "stream",
          "text": [
            "/usr/local/lib/python3.7/dist-packages/sklearn/metrics/_classification.py:1272: UndefinedMetricWarning: Precision and F-score are ill-defined and being set to 0.0 in labels with no predicted samples. Use `zero_division` parameter to control this behavior.\n",
            "  _warn_prf(average, modifier, msg_start, len(result))\n"
          ],
          "name": "stderr"
        }
      ]
    },
    {
      "cell_type": "code",
      "metadata": {
        "colab": {
          "base_uri": "https://localhost:8080/"
        },
        "id": "YG_gs1VRKy2s",
        "outputId": "53bb89de-52d8-4743-89f5-75a5698dd4d3"
      },
      "source": [
        "mean_squared_error(y_test, y_pred_GRU)"
      ],
      "execution_count": null,
      "outputs": [
        {
          "output_type": "execute_result",
          "data": {
            "text/plain": [
              "0.4983314794215795"
            ]
          },
          "metadata": {
            "tags": []
          },
          "execution_count": 78
        }
      ]
    },
    {
      "cell_type": "code",
      "metadata": {
        "colab": {
          "base_uri": "https://localhost:8080/"
        },
        "id": "l2XsvkmFLSbn",
        "outputId": "c9df9220-651c-4717-97be-5eaed7b17f0f"
      },
      "source": [
        "rmse = mean_squared_error(y_test, y_pred_GRU, squared=False)\n",
        "rmse"
      ],
      "execution_count": null,
      "outputs": [
        {
          "output_type": "execute_result",
          "data": {
            "text/plain": [
              "0.7059259730464515"
            ]
          },
          "metadata": {
            "tags": []
          },
          "execution_count": 79
        }
      ]
    },
    {
      "cell_type": "markdown",
      "metadata": {
        "id": "rz-eHeCdLjV5"
      },
      "source": [
        "## RNN"
      ]
    },
    {
      "cell_type": "code",
      "metadata": {
        "colab": {
          "base_uri": "https://localhost:8080/"
        },
        "id": "HE4xezhELonL",
        "outputId": "3c9db8a2-5a52-4bb2-9b79-557aad83168a"
      },
      "source": [
        "embedding_dim = 30\n",
        "\n",
        "model = Sequential()\n",
        "model.add(layers.Embedding(input_dim=vocab_size,\n",
        "                           output_dim=embedding_dim,\n",
        "                           input_length=maxlen))\n",
        "model.add(Conv1D(30,5))\n",
        "model.add(MaxPooling1D())\n",
        "model.add(Softmax())\n",
        "model.add(SimpleRNN(units= 64))\n",
        "model.add(layers.Flatten())\n",
        "model.add(layers.Dense(128,activation='relu'))\n",
        "model.add(layers.Dense(10, activation='relu'))\n",
        "model.add(layers.Dense(1, activation='sigmoid'))\n",
        "model.compile(optimizer='adam',\n",
        "              loss='binary_crossentropy',\n",
        "              metrics=['accuracy'])\n",
        "model.summary()"
      ],
      "execution_count": null,
      "outputs": [
        {
          "output_type": "stream",
          "text": [
            "Model: \"sequential_14\"\n",
            "_________________________________________________________________\n",
            "Layer (type)                 Output Shape              Param #   \n",
            "=================================================================\n",
            "embedding_14 (Embedding)     (None, 60, 30)            191670    \n",
            "_________________________________________________________________\n",
            "conv1d_11 (Conv1D)           (None, 56, 30)            4530      \n",
            "_________________________________________________________________\n",
            "max_pooling1d_11 (MaxPooling (None, 28, 30)            0         \n",
            "_________________________________________________________________\n",
            "softmax_11 (Softmax)         (None, 28, 30)            0         \n",
            "_________________________________________________________________\n",
            "simple_rnn_2 (SimpleRNN)     (None, 64)                6080      \n",
            "_________________________________________________________________\n",
            "flatten_10 (Flatten)         (None, 64)                0         \n",
            "_________________________________________________________________\n",
            "dense_30 (Dense)             (None, 128)               8320      \n",
            "_________________________________________________________________\n",
            "dense_31 (Dense)             (None, 10)                1290      \n",
            "_________________________________________________________________\n",
            "dense_32 (Dense)             (None, 1)                 11        \n",
            "=================================================================\n",
            "Total params: 211,901\n",
            "Trainable params: 211,901\n",
            "Non-trainable params: 0\n",
            "_________________________________________________________________\n"
          ],
          "name": "stdout"
        }
      ]
    },
    {
      "cell_type": "code",
      "metadata": {
        "colab": {
          "base_uri": "https://localhost:8080/"
        },
        "id": "ke63HjFYLoTh",
        "outputId": "55c2bbf8-94bf-4f43-cdf9-2ebcd901d261"
      },
      "source": [
        "model.compile(loss='binary_crossentropy', optimizer='adam', metrics=['accuracy'])\n",
        "model.fit([X_train], y_train,epochs=20,batch_size=15\n",
        "               ,validation_data=([X_test ],y_test))"
      ],
      "execution_count": null,
      "outputs": [
        {
          "output_type": "stream",
          "text": [
            "Epoch 1/20\n",
            "122/122 [==============================] - 5s 32ms/step - loss: 0.6935 - accuracy: 0.4756 - val_loss: 0.6931 - val_accuracy: 0.5017\n",
            "Epoch 2/20\n",
            "122/122 [==============================] - 4s 32ms/step - loss: 0.6932 - accuracy: 0.4992 - val_loss: 0.6931 - val_accuracy: 0.5017\n",
            "Epoch 3/20\n",
            "122/122 [==============================] - 4s 32ms/step - loss: 0.6932 - accuracy: 0.4855 - val_loss: 0.6932 - val_accuracy: 0.4983\n",
            "Epoch 4/20\n",
            "122/122 [==============================] - 4s 32ms/step - loss: 0.6932 - accuracy: 0.4882 - val_loss: 0.6932 - val_accuracy: 0.4983\n",
            "Epoch 5/20\n",
            "122/122 [==============================] - 4s 32ms/step - loss: 0.6932 - accuracy: 0.5008 - val_loss: 0.6932 - val_accuracy: 0.4983\n",
            "Epoch 6/20\n",
            "122/122 [==============================] - 4s 32ms/step - loss: 0.6932 - accuracy: 0.4729 - val_loss: 0.6931 - val_accuracy: 0.5017\n",
            "Epoch 7/20\n",
            "122/122 [==============================] - 4s 32ms/step - loss: 0.6932 - accuracy: 0.4970 - val_loss: 0.6932 - val_accuracy: 0.4983\n",
            "Epoch 8/20\n",
            "122/122 [==============================] - 4s 32ms/step - loss: 0.6932 - accuracy: 0.4888 - val_loss: 0.6932 - val_accuracy: 0.4983\n",
            "Epoch 9/20\n",
            "122/122 [==============================] - 4s 31ms/step - loss: 0.6932 - accuracy: 0.4866 - val_loss: 0.6932 - val_accuracy: 0.4983\n",
            "Epoch 10/20\n",
            "122/122 [==============================] - 4s 31ms/step - loss: 0.6932 - accuracy: 0.5008 - val_loss: 0.6932 - val_accuracy: 0.4983\n",
            "Epoch 11/20\n",
            "122/122 [==============================] - 4s 30ms/step - loss: 0.6932 - accuracy: 0.4860 - val_loss: 0.6932 - val_accuracy: 0.4983\n",
            "Epoch 12/20\n",
            "122/122 [==============================] - 4s 31ms/step - loss: 0.6932 - accuracy: 0.5008 - val_loss: 0.6932 - val_accuracy: 0.4983\n",
            "Epoch 13/20\n",
            "122/122 [==============================] - 4s 31ms/step - loss: 0.6932 - accuracy: 0.4866 - val_loss: 0.6931 - val_accuracy: 0.4983\n",
            "Epoch 14/20\n",
            "122/122 [==============================] - 4s 30ms/step - loss: 0.6932 - accuracy: 0.5008 - val_loss: 0.6932 - val_accuracy: 0.4983\n",
            "Epoch 15/20\n",
            "122/122 [==============================] - 4s 31ms/step - loss: 0.6932 - accuracy: 0.5008 - val_loss: 0.6932 - val_accuracy: 0.4983\n",
            "Epoch 16/20\n",
            "122/122 [==============================] - 4s 30ms/step - loss: 0.6932 - accuracy: 0.5008 - val_loss: 0.6932 - val_accuracy: 0.4983\n",
            "Epoch 17/20\n",
            "122/122 [==============================] - 4s 31ms/step - loss: 0.6932 - accuracy: 0.4915 - val_loss: 0.6931 - val_accuracy: 0.4983\n",
            "Epoch 18/20\n",
            "122/122 [==============================] - 4s 31ms/step - loss: 0.6932 - accuracy: 0.4718 - val_loss: 0.6931 - val_accuracy: 0.4983\n",
            "Epoch 19/20\n",
            "122/122 [==============================] - 4s 32ms/step - loss: 0.6932 - accuracy: 0.4756 - val_loss: 0.6931 - val_accuracy: 0.4983\n",
            "Epoch 20/20\n",
            "122/122 [==============================] - 4s 33ms/step - loss: 0.6933 - accuracy: 0.4795 - val_loss: 0.6931 - val_accuracy: 0.5017\n"
          ],
          "name": "stdout"
        },
        {
          "output_type": "execute_result",
          "data": {
            "text/plain": [
              "<tensorflow.python.keras.callbacks.History at 0x7fd66482b490>"
            ]
          },
          "metadata": {
            "tags": []
          },
          "execution_count": 81
        }
      ]
    },
    {
      "cell_type": "code",
      "metadata": {
        "colab": {
          "base_uri": "https://localhost:8080/"
        },
        "id": "BNzwx1ZzLn-S",
        "outputId": "9eb5326b-41c4-4010-c7da-8e34ca746b6a"
      },
      "source": [
        "y_pred_RNN = model.predict(X_test, batch_size=64, verbose=1)\n",
        "y_pred_RNN = np.argmax(y_pred_RNN, axis=1)\n",
        "\n",
        "print(classification_report(y_test, y_pred_RNN))"
      ],
      "execution_count": null,
      "outputs": [
        {
          "output_type": "stream",
          "text": [
            "15/15 [==============================] - 0s 4ms/step\n",
            "              precision    recall  f1-score   support\n",
            "\n",
            "         0.0       0.50      1.00      0.67       451\n",
            "         1.0       0.00      0.00      0.00       448\n",
            "\n",
            "    accuracy                           0.50       899\n",
            "   macro avg       0.25      0.50      0.33       899\n",
            "weighted avg       0.25      0.50      0.34       899\n",
            "\n"
          ],
          "name": "stdout"
        },
        {
          "output_type": "stream",
          "text": [
            "/usr/local/lib/python3.7/dist-packages/sklearn/metrics/_classification.py:1272: UndefinedMetricWarning: Precision and F-score are ill-defined and being set to 0.0 in labels with no predicted samples. Use `zero_division` parameter to control this behavior.\n",
            "  _warn_prf(average, modifier, msg_start, len(result))\n"
          ],
          "name": "stderr"
        }
      ]
    },
    {
      "cell_type": "code",
      "metadata": {
        "colab": {
          "base_uri": "https://localhost:8080/"
        },
        "id": "NjVRqbTIRla_",
        "outputId": "84ac672e-dbad-4da8-aa72-dd58d560163f"
      },
      "source": [
        "mean_squared_error(y_test, y_pred_RNN)"
      ],
      "execution_count": null,
      "outputs": [
        {
          "output_type": "execute_result",
          "data": {
            "text/plain": [
              "0.4983314794215795"
            ]
          },
          "metadata": {
            "tags": []
          },
          "execution_count": 85
        }
      ]
    },
    {
      "cell_type": "code",
      "metadata": {
        "colab": {
          "base_uri": "https://localhost:8080/"
        },
        "id": "-X0gjeGLRlEG",
        "outputId": "541a241b-1ee1-4b92-c2c4-e2a1dc7d7f5f"
      },
      "source": [
        "rmse = mean_squared_error(y_test, y_pred_RNN, squared=False)\n",
        "rmse"
      ],
      "execution_count": null,
      "outputs": [
        {
          "output_type": "execute_result",
          "data": {
            "text/plain": [
              "0.7059259730464515"
            ]
          },
          "metadata": {
            "tags": []
          },
          "execution_count": 86
        }
      ]
    },
    {
      "cell_type": "markdown",
      "metadata": {
        "id": "06xeCyAE0muK"
      },
      "source": [
        "# SVM"
      ]
    },
    {
      "cell_type": "code",
      "metadata": {
        "id": "dljhtStRK16c"
      },
      "source": [
        "from sklearn.svm import SVC\n"
      ],
      "execution_count": null,
      "outputs": []
    },
    {
      "cell_type": "code",
      "metadata": {
        "colab": {
          "base_uri": "https://localhost:8080/"
        },
        "id": "ba6xx7r9PaDI",
        "outputId": "4f5d9bfb-651e-46a5-ba22-3984d138fa7b"
      },
      "source": [
        "svm=SVC(C=10, kernel='rbf',gamma=0.01, probability=True)\n",
        "svm.fit (X_train,y_train )\n",
        "y_pr_svm = svm.predict (X_test)\n",
        "print (classification_report(y_test,y_pr_svm))"
      ],
      "execution_count": null,
      "outputs": [
        {
          "output_type": "stream",
          "text": [
            "              precision    recall  f1-score   support\n",
            "\n",
            "         0.0       0.50      1.00      0.67       451\n",
            "         1.0       1.00      0.00      0.00       448\n",
            "\n",
            "    accuracy                           0.50       899\n",
            "   macro avg       0.75      0.50      0.34       899\n",
            "weighted avg       0.75      0.50      0.34       899\n",
            "\n"
          ],
          "name": "stdout"
        }
      ]
    },
    {
      "cell_type": "code",
      "metadata": {
        "colab": {
          "base_uri": "https://localhost:8080/"
        },
        "id": "4U0OXIgrLFT9",
        "outputId": "4eac82f8-7fbf-46e1-97a7-2f8c170683a9"
      },
      "source": [
        "mean_squared_error(y_test, y_pr_svm)"
      ],
      "execution_count": null,
      "outputs": [
        {
          "output_type": "execute_result",
          "data": {
            "text/plain": [
              "0.5116796440489433"
            ]
          },
          "metadata": {
            "tags": []
          },
          "execution_count": 28
        }
      ]
    },
    {
      "cell_type": "code",
      "metadata": {
        "colab": {
          "base_uri": "https://localhost:8080/"
        },
        "id": "p5t42OabLMc8",
        "outputId": "bfd3ab30-6b4c-49ef-8042-2acd58d804b8"
      },
      "source": [
        "rmse = mean_squared_error(y_test, y_pr_svm, squared=False)\n",
        "rmse"
      ],
      "execution_count": null,
      "outputs": [
        {
          "output_type": "execute_result",
          "data": {
            "text/plain": [
              "0.7153178622465284"
            ]
          },
          "metadata": {
            "tags": []
          },
          "execution_count": 29
        }
      ]
    },
    {
      "cell_type": "markdown",
      "metadata": {
        "id": "bKphjqM20_Br"
      },
      "source": [
        "# Random Forest"
      ]
    },
    {
      "cell_type": "code",
      "metadata": {
        "colab": {
          "base_uri": "https://localhost:8080/"
        },
        "id": "qwHcJAaC01kB",
        "outputId": "96b111f5-e2c5-42d3-a59d-a3f0bd0d377c"
      },
      "source": [
        "from sklearn.ensemble import RandomForestClassifier\n",
        "clf = RandomForestClassifier(max_depth=2, random_state=0)\n",
        "clf.fit(X_train, y_train)\n",
        "y_pr_rf = clf.predict (X_test)\n",
        "print (classification_report(y_test,y_pr_rf))"
      ],
      "execution_count": null,
      "outputs": [
        {
          "output_type": "stream",
          "text": [
            "              precision    recall  f1-score   support\n",
            "\n",
            "         0.0       0.50      0.65      0.56       438\n",
            "         1.0       0.53      0.38      0.44       461\n",
            "\n",
            "    accuracy                           0.51       899\n",
            "   macro avg       0.51      0.51      0.50       899\n",
            "weighted avg       0.51      0.51      0.50       899\n",
            "\n"
          ],
          "name": "stdout"
        }
      ]
    },
    {
      "cell_type": "code",
      "metadata": {
        "colab": {
          "base_uri": "https://localhost:8080/"
        },
        "id": "0A8IME1j2INa",
        "outputId": "99a0ae9a-12d6-4b59-c737-7a22c55e4206"
      },
      "source": [
        "mean_squared_error(y_test, y_pr_rf)"
      ],
      "execution_count": null,
      "outputs": [
        {
          "output_type": "execute_result",
          "data": {
            "text/plain": [
              "0.4916573971078977"
            ]
          },
          "metadata": {
            "tags": []
          },
          "execution_count": 31
        }
      ]
    },
    {
      "cell_type": "code",
      "metadata": {
        "colab": {
          "base_uri": "https://localhost:8080/"
        },
        "id": "pcg4v07Q2Vyh",
        "outputId": "0219116b-15a7-4f46-da2a-ac30c610b098"
      },
      "source": [
        "rmse = mean_squared_error(y_test, y_pr_rf, squared=False)\n",
        "rmse"
      ],
      "execution_count": null,
      "outputs": [
        {
          "output_type": "execute_result",
          "data": {
            "text/plain": [
              "0.7011828556859456"
            ]
          },
          "metadata": {
            "tags": []
          },
          "execution_count": 32
        }
      ]
    },
    {
      "cell_type": "code",
      "metadata": {
        "id": "7g77paTr2ZWQ"
      },
      "source": [],
      "execution_count": null,
      "outputs": []
    }
  ]
}